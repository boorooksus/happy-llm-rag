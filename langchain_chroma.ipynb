{
 "cells": [
  {
   "cell_type": "code",
   "execution_count": 15,
   "metadata": {},
   "outputs": [
    {
     "name": "stdout",
     "output_type": "stream",
     "text": [
      "Collecting langchain-chroma\n",
      "  Downloading langchain_chroma-0.1.4-py3-none-any.whl (10 kB)\n",
      "Requirement already satisfied: numpy<2,>=1 in /Users/boosj/.pyenv/versions/3.10.15/envs/llm/lib/python3.10/site-packages (from langchain-chroma) (1.26.4)\n",
      "Collecting chromadb!=0.5.4,!=0.5.5,<0.6.0,>=0.4.0\n",
      "  Downloading chromadb-0.5.20-py3-none-any.whl (617 kB)\n",
      "\u001b[2K     \u001b[90m━━━━━━━━━━━━━━━━━━━━━━━━━━━━━━━━━━━━━━━\u001b[0m \u001b[32m617.9/617.9 kB\u001b[0m \u001b[31m8.5 MB/s\u001b[0m eta \u001b[36m0:00:00\u001b[0ma \u001b[36m0:00:01\u001b[0m\n",
      "\u001b[?25hCollecting fastapi<1,>=0.95.2\n",
      "  Downloading fastapi-0.115.5-py3-none-any.whl (94 kB)\n",
      "\u001b[2K     \u001b[90m━━━━━━━━━━━━━━━━━━━━━━━━━━━━━━━━━━━━━━━━\u001b[0m \u001b[32m94.9/94.9 kB\u001b[0m \u001b[31m6.5 MB/s\u001b[0m eta \u001b[36m0:00:00\u001b[0m\n",
      "\u001b[?25hRequirement already satisfied: langchain-core<0.4,>=0.1.40 in /Users/boosj/.pyenv/versions/3.10.15/envs/llm/lib/python3.10/site-packages (from langchain-chroma) (0.3.21)\n",
      "Collecting build>=1.0.3\n",
      "  Downloading build-1.2.2.post1-py3-none-any.whl (22 kB)\n",
      "Requirement already satisfied: typing-extensions>=4.5.0 in /Users/boosj/.pyenv/versions/3.10.15/envs/llm/lib/python3.10/site-packages (from chromadb!=0.5.4,!=0.5.5,<0.6.0,>=0.4.0->langchain-chroma) (4.12.2)\n",
      "Collecting bcrypt>=4.0.1\n",
      "  Downloading bcrypt-4.2.1-cp39-abi3-macosx_10_12_universal2.whl (489 kB)\n",
      "\u001b[2K     \u001b[90m━━━━━━━━━━━━━━━━━━━━━━━━━━━━━━━━━━━━━━\u001b[0m \u001b[32m489.8/489.8 kB\u001b[0m \u001b[31m10.4 MB/s\u001b[0m eta \u001b[36m0:00:00\u001b[0ma \u001b[36m0:00:01\u001b[0m\n",
      "\u001b[?25hRequirement already satisfied: tenacity>=8.2.3 in /Users/boosj/.pyenv/versions/3.10.15/envs/llm/lib/python3.10/site-packages (from chromadb!=0.5.4,!=0.5.5,<0.6.0,>=0.4.0->langchain-chroma) (9.0.0)\n",
      "Requirement already satisfied: tokenizers>=0.13.2 in /Users/boosj/.pyenv/versions/3.10.15/envs/llm/lib/python3.10/site-packages (from chromadb!=0.5.4,!=0.5.5,<0.6.0,>=0.4.0->langchain-chroma) (0.19.1)\n",
      "Requirement already satisfied: tqdm>=4.65.0 in /Users/boosj/.pyenv/versions/3.10.15/envs/llm/lib/python3.10/site-packages (from chromadb!=0.5.4,!=0.5.5,<0.6.0,>=0.4.0->langchain-chroma) (4.67.1)\n",
      "Collecting mmh3>=4.0.1\n",
      "  Downloading mmh3-5.0.1-cp310-cp310-macosx_11_0_arm64.whl (38 kB)\n",
      "Collecting opentelemetry-sdk>=1.2.0\n",
      "  Downloading opentelemetry_sdk-1.28.2-py3-none-any.whl (118 kB)\n",
      "\u001b[2K     \u001b[90m━━━━━━━━━━━━━━━━━━━━━━━━━━━━━━━━━━━━━━━\u001b[0m \u001b[32m118.8/118.8 kB\u001b[0m \u001b[31m6.8 MB/s\u001b[0m eta \u001b[36m0:00:00\u001b[0m\n",
      "\u001b[?25hCollecting typer>=0.9.0\n",
      "  Downloading typer-0.14.0-py3-none-any.whl (44 kB)\n",
      "\u001b[2K     \u001b[90m━━━━━━━━━━━━━━━━━━━━━━━━━━━━━━━━━━━━━━━━\u001b[0m \u001b[32m44.7/44.7 kB\u001b[0m \u001b[31m5.5 MB/s\u001b[0m eta \u001b[36m0:00:00\u001b[0m\n",
      "\u001b[?25hCollecting grpcio>=1.58.0\n",
      "  Downloading grpcio-1.68.0-cp310-cp310-macosx_12_0_universal2.whl (11.1 MB)\n",
      "\u001b[2K     \u001b[90m━━━━━━━━━━━━━━━━━━━━━━━━━━━━━━━━━━━━━━━━\u001b[0m \u001b[32m11.1/11.1 MB\u001b[0m \u001b[31m11.5 MB/s\u001b[0m eta \u001b[36m0:00:00\u001b[0m00:01\u001b[0m00:01\u001b[0m\n",
      "\u001b[?25hCollecting pypika>=0.48.9\n",
      "  Downloading PyPika-0.48.9.tar.gz (67 kB)\n",
      "\u001b[2K     \u001b[90m━━━━━━━━━━━━━━━━━━━━━━━━━━━━━━━━━━━━━━━━\u001b[0m \u001b[32m67.3/67.3 kB\u001b[0m \u001b[31m4.9 MB/s\u001b[0m eta \u001b[36m0:00:00\u001b[0m\n",
      "\u001b[?25h  Installing build dependencies ... \u001b[?25ldone\n",
      "\u001b[?25h  Getting requirements to build wheel ... \u001b[?25ldone\n",
      "\u001b[?25h  Preparing metadata (pyproject.toml) ... \u001b[?25ldone\n",
      "\u001b[?25hCollecting kubernetes>=28.1.0\n",
      "  Downloading kubernetes-31.0.0-py2.py3-none-any.whl (1.9 MB)\n",
      "\u001b[2K     \u001b[90m━━━━━━━━━━━━━━━━━━━━━━━━━━━━━━━━━━━━━━━━\u001b[0m \u001b[32m1.9/1.9 MB\u001b[0m \u001b[31m11.2 MB/s\u001b[0m eta \u001b[36m0:00:00\u001b[0ma \u001b[36m0:00:01\u001b[0m\n",
      "\u001b[?25hRequirement already satisfied: orjson>=3.9.12 in /Users/boosj/.pyenv/versions/3.10.15/envs/llm/lib/python3.10/site-packages (from chromadb!=0.5.4,!=0.5.5,<0.6.0,>=0.4.0->langchain-chroma) (3.10.12)\n",
      "Collecting onnxruntime>=1.14.1\n",
      "  Downloading onnxruntime-1.20.1-cp310-cp310-macosx_13_0_universal2.whl (31.0 MB)\n",
      "\u001b[2K     \u001b[90m━━━━━━━━━━━━━━━━━━━━━━━━━━━━━━━━━━━━━━━━\u001b[0m \u001b[32m31.0/31.0 MB\u001b[0m \u001b[31m11.4 MB/s\u001b[0m eta \u001b[36m0:00:00\u001b[0m00:01\u001b[0m00:01\u001b[0m\n",
      "\u001b[?25hCollecting chroma-hnswlib==0.7.6\n",
      "  Downloading chroma_hnswlib-0.7.6-cp310-cp310-macosx_11_0_arm64.whl (183 kB)\n",
      "\u001b[2K     \u001b[90m━━━━━━━━━━━━━━━━━━━━━━━━━━━━━━━━━━━━━━━\u001b[0m \u001b[32m183.9/183.9 kB\u001b[0m \u001b[31m7.1 MB/s\u001b[0m eta \u001b[36m0:00:00\u001b[0m\n",
      "\u001b[?25hRequirement already satisfied: httpx>=0.27.0 in /Users/boosj/.pyenv/versions/3.10.15/envs/llm/lib/python3.10/site-packages (from chromadb!=0.5.4,!=0.5.5,<0.6.0,>=0.4.0->langchain-chroma) (0.28.0)\n",
      "Requirement already satisfied: PyYAML>=6.0.0 in /Users/boosj/.pyenv/versions/3.10.15/envs/llm/lib/python3.10/site-packages (from chromadb!=0.5.4,!=0.5.5,<0.6.0,>=0.4.0->langchain-chroma) (6.0.2)\n",
      "Collecting overrides>=7.3.1\n",
      "  Downloading overrides-7.7.0-py3-none-any.whl (17 kB)\n",
      "Collecting posthog>=2.4.0\n",
      "  Downloading posthog-3.7.4-py2.py3-none-any.whl (54 kB)\n",
      "\u001b[2K     \u001b[90m━━━━━━━━━━━━━━━━━━━━━━━━━━━━━━━━━━━━━━━━\u001b[0m \u001b[32m54.8/54.8 kB\u001b[0m \u001b[31m7.8 MB/s\u001b[0m eta \u001b[36m0:00:00\u001b[0m\n",
      "\u001b[?25hCollecting opentelemetry-api>=1.2.0\n",
      "  Downloading opentelemetry_api-1.28.2-py3-none-any.whl (64 kB)\n",
      "\u001b[2K     \u001b[90m━━━━━━━━━━━━━━━━━━━━━━━━━━━━━━━━━━━━━━━━\u001b[0m \u001b[32m64.3/64.3 kB\u001b[0m \u001b[31m7.2 MB/s\u001b[0m eta \u001b[36m0:00:00\u001b[0m\n",
      "\u001b[?25hCollecting opentelemetry-instrumentation-fastapi>=0.41b0\n",
      "  Downloading opentelemetry_instrumentation_fastapi-0.49b2-py3-none-any.whl (12 kB)\n",
      "Collecting rich>=10.11.0\n",
      "  Downloading rich-13.9.4-py3-none-any.whl (242 kB)\n",
      "\u001b[2K     \u001b[90m━━━━━━━━━━━━━━━━━━━━━━━━━━━━━━━━━━━━━━━\u001b[0m \u001b[32m242.4/242.4 kB\u001b[0m \u001b[31m9.5 MB/s\u001b[0m eta \u001b[36m0:00:00\u001b[0m\n",
      "\u001b[?25hCollecting uvicorn[standard]>=0.18.3\n",
      "  Downloading uvicorn-0.32.1-py3-none-any.whl (63 kB)\n",
      "\u001b[2K     \u001b[90m━━━━━━━━━━━━━━━━━━━━━━━━━━━━━━━━━━━━━━━━\u001b[0m \u001b[32m63.8/63.8 kB\u001b[0m \u001b[31m5.0 MB/s\u001b[0m eta \u001b[36m0:00:00\u001b[0m\n",
      "\u001b[?25hRequirement already satisfied: pydantic>=1.9 in /Users/boosj/.pyenv/versions/3.10.15/envs/llm/lib/python3.10/site-packages (from chromadb!=0.5.4,!=0.5.5,<0.6.0,>=0.4.0->langchain-chroma) (2.10.2)\n",
      "Collecting opentelemetry-exporter-otlp-proto-grpc>=1.2.0\n",
      "  Downloading opentelemetry_exporter_otlp_proto_grpc-1.28.2-py3-none-any.whl (18 kB)\n",
      "Collecting importlib-resources\n",
      "  Downloading importlib_resources-6.4.5-py3-none-any.whl (36 kB)\n",
      "Collecting starlette<0.42.0,>=0.40.0\n",
      "  Downloading starlette-0.41.3-py3-none-any.whl (73 kB)\n",
      "\u001b[2K     \u001b[90m━━━━━━━━━━━━━━━━━━━━━━━━━━━━━━━━━━━━━━━━\u001b[0m \u001b[32m73.2/73.2 kB\u001b[0m \u001b[31m6.2 MB/s\u001b[0m eta \u001b[36m0:00:00\u001b[0m\n",
      "\u001b[?25hRequirement already satisfied: langsmith<0.2.0,>=0.1.125 in /Users/boosj/.pyenv/versions/3.10.15/envs/llm/lib/python3.10/site-packages (from langchain-core<0.4,>=0.1.40->langchain-chroma) (0.1.147)\n",
      "Requirement already satisfied: jsonpatch<2.0,>=1.33 in /Users/boosj/.pyenv/versions/3.10.15/envs/llm/lib/python3.10/site-packages (from langchain-core<0.4,>=0.1.40->langchain-chroma) (1.33)\n",
      "Requirement already satisfied: packaging<25,>=23.2 in /Users/boosj/.pyenv/versions/3.10.15/envs/llm/lib/python3.10/site-packages (from langchain-core<0.4,>=0.1.40->langchain-chroma) (24.2)\n",
      "Collecting pyproject_hooks\n",
      "  Downloading pyproject_hooks-1.2.0-py3-none-any.whl (10 kB)\n",
      "Collecting tomli>=1.1.0\n",
      "  Downloading tomli-2.2.1-py3-none-any.whl (14 kB)\n",
      "Requirement already satisfied: certifi in /Users/boosj/.pyenv/versions/3.10.15/envs/llm/lib/python3.10/site-packages (from httpx>=0.27.0->chromadb!=0.5.4,!=0.5.5,<0.6.0,>=0.4.0->langchain-chroma) (2024.8.30)\n",
      "Requirement already satisfied: idna in /Users/boosj/.pyenv/versions/3.10.15/envs/llm/lib/python3.10/site-packages (from httpx>=0.27.0->chromadb!=0.5.4,!=0.5.5,<0.6.0,>=0.4.0->langchain-chroma) (3.10)\n",
      "Requirement already satisfied: anyio in /Users/boosj/.pyenv/versions/3.10.15/envs/llm/lib/python3.10/site-packages (from httpx>=0.27.0->chromadb!=0.5.4,!=0.5.5,<0.6.0,>=0.4.0->langchain-chroma) (4.6.2.post1)\n",
      "Requirement already satisfied: httpcore==1.* in /Users/boosj/.pyenv/versions/3.10.15/envs/llm/lib/python3.10/site-packages (from httpx>=0.27.0->chromadb!=0.5.4,!=0.5.5,<0.6.0,>=0.4.0->langchain-chroma) (1.0.7)\n",
      "Requirement already satisfied: h11<0.15,>=0.13 in /Users/boosj/.pyenv/versions/3.10.15/envs/llm/lib/python3.10/site-packages (from httpcore==1.*->httpx>=0.27.0->chromadb!=0.5.4,!=0.5.5,<0.6.0,>=0.4.0->langchain-chroma) (0.14.0)\n",
      "Requirement already satisfied: jsonpointer>=1.9 in /Users/boosj/.pyenv/versions/3.10.15/envs/llm/lib/python3.10/site-packages (from jsonpatch<2.0,>=1.33->langchain-core<0.4,>=0.1.40->langchain-chroma) (3.0.0)\n",
      "Collecting oauthlib>=3.2.2\n",
      "  Downloading oauthlib-3.2.2-py3-none-any.whl (151 kB)\n",
      "\u001b[2K     \u001b[90m━━━━━━━━━━━━━━━━━━━━━━━━━━━━━━━━━━━━━━━\u001b[0m \u001b[32m151.7/151.7 kB\u001b[0m \u001b[31m7.3 MB/s\u001b[0m eta \u001b[36m0:00:00\u001b[0m\n",
      "\u001b[?25hCollecting requests-oauthlib\n",
      "  Downloading requests_oauthlib-2.0.0-py2.py3-none-any.whl (24 kB)\n",
      "Requirement already satisfied: requests in /Users/boosj/.pyenv/versions/3.10.15/envs/llm/lib/python3.10/site-packages (from kubernetes>=28.1.0->chromadb!=0.5.4,!=0.5.5,<0.6.0,>=0.4.0->langchain-chroma) (2.32.3)\n",
      "Collecting durationpy>=0.7\n",
      "  Downloading durationpy-0.9-py3-none-any.whl (3.5 kB)\n",
      "Requirement already satisfied: python-dateutil>=2.5.3 in /Users/boosj/.pyenv/versions/3.10.15/envs/llm/lib/python3.10/site-packages (from kubernetes>=28.1.0->chromadb!=0.5.4,!=0.5.5,<0.6.0,>=0.4.0->langchain-chroma) (2.9.0.post0)\n",
      "Collecting websocket-client!=0.40.0,!=0.41.*,!=0.42.*,>=0.32.0\n",
      "  Downloading websocket_client-1.8.0-py3-none-any.whl (58 kB)\n",
      "\u001b[2K     \u001b[90m━━━━━━━━━━━━━━━━━━━━━━━━━━━━━━━━━━━━━━━━\u001b[0m \u001b[32m58.8/58.8 kB\u001b[0m \u001b[31m4.1 MB/s\u001b[0m eta \u001b[36m0:00:00\u001b[0m\n",
      "\u001b[?25hRequirement already satisfied: urllib3>=1.24.2 in /Users/boosj/.pyenv/versions/3.10.15/envs/llm/lib/python3.10/site-packages (from kubernetes>=28.1.0->chromadb!=0.5.4,!=0.5.5,<0.6.0,>=0.4.0->langchain-chroma) (2.2.3)\n",
      "Requirement already satisfied: six>=1.9.0 in /Users/boosj/.pyenv/versions/3.10.15/envs/llm/lib/python3.10/site-packages (from kubernetes>=28.1.0->chromadb!=0.5.4,!=0.5.5,<0.6.0,>=0.4.0->langchain-chroma) (1.16.0)\n",
      "Collecting google-auth>=1.0.1\n",
      "  Downloading google_auth-2.36.0-py2.py3-none-any.whl (209 kB)\n",
      "\u001b[2K     \u001b[90m━━━━━━━━━━━━━━━━━━━━━━━━━━━━━━━━━━━━━━\u001b[0m \u001b[32m209.5/209.5 kB\u001b[0m \u001b[31m10.8 MB/s\u001b[0m eta \u001b[36m0:00:00\u001b[0m\n",
      "\u001b[?25hRequirement already satisfied: requests-toolbelt<2.0.0,>=1.0.0 in /Users/boosj/.pyenv/versions/3.10.15/envs/llm/lib/python3.10/site-packages (from langsmith<0.2.0,>=0.1.125->langchain-core<0.4,>=0.1.40->langchain-chroma) (1.0.0)\n",
      "Collecting protobuf\n",
      "  Downloading protobuf-5.29.0-cp38-abi3-macosx_10_9_universal2.whl (417 kB)\n",
      "\u001b[2K     \u001b[90m━━━━━━━━━━━━━━━━━━━━━━━━━━━━━━━━━━━━━━━\u001b[0m \u001b[32m417.8/417.8 kB\u001b[0m \u001b[31m3.2 MB/s\u001b[0m eta \u001b[36m0:00:00\u001b[0ma \u001b[36m0:00:01\u001b[0m\n",
      "\u001b[?25hCollecting coloredlogs\n",
      "  Downloading coloredlogs-15.0.1-py2.py3-none-any.whl (46 kB)\n",
      "\u001b[2K     \u001b[90m━━━━━━━━━━━━━━━━━━━━━━━━━━━━━━━━━━━━━━━━\u001b[0m \u001b[32m46.0/46.0 kB\u001b[0m \u001b[31m4.8 MB/s\u001b[0m eta \u001b[36m0:00:00\u001b[0m\n",
      "\u001b[?25hCollecting sympy\n",
      "  Downloading sympy-1.13.3-py3-none-any.whl (6.2 MB)\n",
      "\u001b[2K     \u001b[90m━━━━━━━━━━━━━━━━━━━━━━━━━━━━━━━━━━━━━━━━\u001b[0m \u001b[32m6.2/6.2 MB\u001b[0m \u001b[31m10.0 MB/s\u001b[0m eta \u001b[36m0:00:00\u001b[0m00:01\u001b[0m00:01\u001b[0m\n",
      "\u001b[?25hCollecting flatbuffers\n",
      "  Downloading flatbuffers-24.3.25-py2.py3-none-any.whl (26 kB)\n",
      "Collecting deprecated>=1.2.6\n",
      "  Downloading Deprecated-1.2.15-py2.py3-none-any.whl (9.9 kB)\n",
      "Collecting importlib-metadata<=8.5.0,>=6.0\n",
      "  Downloading importlib_metadata-8.5.0-py3-none-any.whl (26 kB)\n",
      "Collecting opentelemetry-proto==1.28.2\n",
      "  Downloading opentelemetry_proto-1.28.2-py3-none-any.whl (55 kB)\n",
      "\u001b[2K     \u001b[90m━━━━━━━━━━━━━━━━━━━━━━━━━━━━━━━━━━━━━━━━\u001b[0m \u001b[32m55.8/55.8 kB\u001b[0m \u001b[31m4.1 MB/s\u001b[0m eta \u001b[36m0:00:00\u001b[0m\n",
      "\u001b[?25hCollecting opentelemetry-exporter-otlp-proto-common==1.28.2\n",
      "  Downloading opentelemetry_exporter_otlp_proto_common-1.28.2-py3-none-any.whl (18 kB)\n",
      "Collecting googleapis-common-protos~=1.52\n",
      "  Downloading googleapis_common_protos-1.66.0-py2.py3-none-any.whl (221 kB)\n",
      "\u001b[2K     \u001b[90m━━━━━━━━━━━━━━━━━━━━━━━━━━━━━━━━━━━━━━━\u001b[0m \u001b[32m221.7/221.7 kB\u001b[0m \u001b[31m8.2 MB/s\u001b[0m eta \u001b[36m0:00:00\u001b[0m\n",
      "\u001b[?25hCollecting opentelemetry-util-http==0.49b2\n",
      "  Downloading opentelemetry_util_http-0.49b2-py3-none-any.whl (6.9 kB)\n",
      "Collecting opentelemetry-semantic-conventions==0.49b2\n",
      "  Downloading opentelemetry_semantic_conventions-0.49b2-py3-none-any.whl (159 kB)\n",
      "\u001b[2K     \u001b[90m━━━━━━━━━━━━━━━━━━━━━━━━━━━━━━━━━━━━━━━\u001b[0m \u001b[32m159.2/159.2 kB\u001b[0m \u001b[31m9.7 MB/s\u001b[0m eta \u001b[36m0:00:00\u001b[0m\n",
      "\u001b[?25hCollecting opentelemetry-instrumentation==0.49b2\n",
      "  Downloading opentelemetry_instrumentation-0.49b2-py3-none-any.whl (30 kB)\n",
      "Collecting opentelemetry-instrumentation-asgi==0.49b2\n",
      "  Downloading opentelemetry_instrumentation_asgi-0.49b2-py3-none-any.whl (16 kB)\n",
      "Collecting wrapt<2.0.0,>=1.0.0\n",
      "  Downloading wrapt-1.17.0-cp310-cp310-macosx_11_0_arm64.whl (38 kB)\n",
      "Collecting asgiref~=3.0\n",
      "  Downloading asgiref-3.8.1-py3-none-any.whl (23 kB)\n",
      "Collecting backoff>=1.10.0\n",
      "  Downloading backoff-2.2.1-py3-none-any.whl (15 kB)\n",
      "Collecting monotonic>=1.5\n",
      "  Downloading monotonic-1.6-py2.py3-none-any.whl (8.2 kB)\n",
      "Requirement already satisfied: annotated-types>=0.6.0 in /Users/boosj/.pyenv/versions/3.10.15/envs/llm/lib/python3.10/site-packages (from pydantic>=1.9->chromadb!=0.5.4,!=0.5.5,<0.6.0,>=0.4.0->langchain-chroma) (0.7.0)\n",
      "Requirement already satisfied: pydantic-core==2.27.1 in /Users/boosj/.pyenv/versions/3.10.15/envs/llm/lib/python3.10/site-packages (from pydantic>=1.9->chromadb!=0.5.4,!=0.5.5,<0.6.0,>=0.4.0->langchain-chroma) (2.27.1)\n",
      "Collecting markdown-it-py>=2.2.0\n",
      "  Downloading markdown_it_py-3.0.0-py3-none-any.whl (87 kB)\n",
      "\u001b[2K     \u001b[90m━━━━━━━━━━━━━━━━━━━━━━━━━━━━━━━━━━━━━━━━\u001b[0m \u001b[32m87.5/87.5 kB\u001b[0m \u001b[31m7.3 MB/s\u001b[0m eta \u001b[36m0:00:00\u001b[0m\n",
      "\u001b[?25hRequirement already satisfied: pygments<3.0.0,>=2.13.0 in /Users/boosj/.pyenv/versions/3.10.15/envs/llm/lib/python3.10/site-packages (from rich>=10.11.0->chromadb!=0.5.4,!=0.5.5,<0.6.0,>=0.4.0->langchain-chroma) (2.18.0)\n",
      "Requirement already satisfied: huggingface-hub<1.0,>=0.16.4 in /Users/boosj/.pyenv/versions/3.10.15/envs/llm/lib/python3.10/site-packages (from tokenizers>=0.13.2->chromadb!=0.5.4,!=0.5.5,<0.6.0,>=0.4.0->langchain-chroma) (0.26.3)\n",
      "Collecting shellingham>=1.3.0\n",
      "  Downloading shellingham-1.5.4-py2.py3-none-any.whl (9.8 kB)\n",
      "Collecting click>=8.0.0\n",
      "  Downloading click-8.1.7-py3-none-any.whl (97 kB)\n",
      "\u001b[2K     \u001b[90m━━━━━━━━━━━━━━━━━━━━━━━━━━━━━━━━━━━━━━━━\u001b[0m \u001b[32m97.9/97.9 kB\u001b[0m \u001b[31m6.6 MB/s\u001b[0m eta \u001b[36m0:00:00\u001b[0m\n",
      "\u001b[?25hCollecting httptools>=0.6.3\n",
      "  Downloading httptools-0.6.4-cp310-cp310-macosx_11_0_arm64.whl (103 kB)\n",
      "\u001b[2K     \u001b[90m━━━━━━━━━━━━━━━━━━━━━━━━━━━━━━━━━━━━━━━\u001b[0m \u001b[32m103.3/103.3 kB\u001b[0m \u001b[31m7.6 MB/s\u001b[0m eta \u001b[36m0:00:00\u001b[0m\n",
      "\u001b[?25hCollecting watchfiles>=0.13\n",
      "  Downloading watchfiles-1.0.0-cp310-cp310-macosx_11_0_arm64.whl (382 kB)\n",
      "\u001b[2K     \u001b[90m━━━━━━━━━━━━━━━━━━━━━━━━━━━━━━━━━━━━━━\u001b[0m \u001b[32m382.8/382.8 kB\u001b[0m \u001b[31m10.2 MB/s\u001b[0m eta \u001b[36m0:00:00\u001b[0m\n",
      "\u001b[?25hCollecting uvloop!=0.15.0,!=0.15.1,>=0.14.0\n",
      "  Downloading uvloop-0.21.0-cp310-cp310-macosx_10_9_universal2.whl (1.4 MB)\n",
      "\u001b[2K     \u001b[90m━━━━━━━━━━━━━━━━━━━━━━━━━━━━━━━━━━━━━━━━\u001b[0m \u001b[32m1.4/1.4 MB\u001b[0m \u001b[31m10.7 MB/s\u001b[0m eta \u001b[36m0:00:00\u001b[0ma \u001b[36m0:00:01\u001b[0m\n",
      "\u001b[?25hCollecting websockets>=10.4\n",
      "  Downloading websockets-14.1-cp310-cp310-macosx_11_0_arm64.whl (159 kB)\n",
      "\u001b[2K     \u001b[90m━━━━━━━━━━━━━━━━━━━━━━━━━━━━━━━━━━━━━━━\u001b[0m \u001b[32m159.9/159.9 kB\u001b[0m \u001b[31m9.5 MB/s\u001b[0m eta \u001b[36m0:00:00\u001b[0m\n",
      "\u001b[?25hRequirement already satisfied: python-dotenv>=0.13 in /Users/boosj/.pyenv/versions/3.10.15/envs/llm/lib/python3.10/site-packages (from uvicorn[standard]>=0.18.3->chromadb!=0.5.4,!=0.5.5,<0.6.0,>=0.4.0->langchain-chroma) (1.0.1)\n",
      "Requirement already satisfied: exceptiongroup>=1.0.2 in /Users/boosj/.pyenv/versions/3.10.15/envs/llm/lib/python3.10/site-packages (from anyio->httpx>=0.27.0->chromadb!=0.5.4,!=0.5.5,<0.6.0,>=0.4.0->langchain-chroma) (1.2.2)\n",
      "Requirement already satisfied: sniffio>=1.1 in /Users/boosj/.pyenv/versions/3.10.15/envs/llm/lib/python3.10/site-packages (from anyio->httpx>=0.27.0->chromadb!=0.5.4,!=0.5.5,<0.6.0,>=0.4.0->langchain-chroma) (1.3.1)\n",
      "Collecting rsa<5,>=3.1.4\n",
      "  Downloading rsa-4.9-py3-none-any.whl (34 kB)\n",
      "Collecting pyasn1-modules>=0.2.1\n",
      "  Downloading pyasn1_modules-0.4.1-py3-none-any.whl (181 kB)\n",
      "\u001b[2K     \u001b[90m━━━━━━━━━━━━━━━━━━━━━━━━━━━━━━━━━━━━━━━\u001b[0m \u001b[32m181.5/181.5 kB\u001b[0m \u001b[31m8.9 MB/s\u001b[0m eta \u001b[36m0:00:00\u001b[0m\n",
      "\u001b[?25hCollecting cachetools<6.0,>=2.0.0\n",
      "  Downloading cachetools-5.5.0-py3-none-any.whl (9.5 kB)\n",
      "Requirement already satisfied: filelock in /Users/boosj/.pyenv/versions/3.10.15/envs/llm/lib/python3.10/site-packages (from huggingface-hub<1.0,>=0.16.4->tokenizers>=0.13.2->chromadb!=0.5.4,!=0.5.5,<0.6.0,>=0.4.0->langchain-chroma) (3.16.1)\n",
      "Requirement already satisfied: fsspec>=2023.5.0 in /Users/boosj/.pyenv/versions/3.10.15/envs/llm/lib/python3.10/site-packages (from huggingface-hub<1.0,>=0.16.4->tokenizers>=0.13.2->chromadb!=0.5.4,!=0.5.5,<0.6.0,>=0.4.0->langchain-chroma) (2024.10.0)\n",
      "Collecting zipp>=3.20\n",
      "  Downloading zipp-3.21.0-py3-none-any.whl (9.6 kB)\n",
      "Collecting mdurl~=0.1\n",
      "  Downloading mdurl-0.1.2-py3-none-any.whl (10.0 kB)\n",
      "Requirement already satisfied: charset-normalizer<4,>=2 in /Users/boosj/.pyenv/versions/3.10.15/envs/llm/lib/python3.10/site-packages (from requests->kubernetes>=28.1.0->chromadb!=0.5.4,!=0.5.5,<0.6.0,>=0.4.0->langchain-chroma) (3.4.0)\n",
      "Collecting humanfriendly>=9.1\n",
      "  Downloading humanfriendly-10.0-py2.py3-none-any.whl (86 kB)\n",
      "\u001b[2K     \u001b[90m━━━━━━━━━━━━━━━━━━━━━━━━━━━━━━━━━━━━━━━━\u001b[0m \u001b[32m86.8/86.8 kB\u001b[0m \u001b[31m6.2 MB/s\u001b[0m eta \u001b[36m0:00:00\u001b[0m\n",
      "\u001b[?25hCollecting mpmath<1.4,>=1.1.0\n",
      "  Downloading mpmath-1.3.0-py3-none-any.whl (536 kB)\n",
      "\u001b[2K     \u001b[90m━━━━━━━━━━━━━━━━━━━━━━━━━━━━━━━━━━━━━━\u001b[0m \u001b[32m536.2/536.2 kB\u001b[0m \u001b[31m10.1 MB/s\u001b[0m eta \u001b[36m0:00:00\u001b[0ma \u001b[36m0:00:01\u001b[0m\n",
      "\u001b[?25hCollecting pyasn1<0.7.0,>=0.4.6\n",
      "  Downloading pyasn1-0.6.1-py3-none-any.whl (83 kB)\n",
      "\u001b[2K     \u001b[90m━━━━━━━━━━━━━━━━━━━━━━━━━━━━━━━━━━━━━━━━\u001b[0m \u001b[32m83.1/83.1 kB\u001b[0m \u001b[31m7.0 MB/s\u001b[0m eta \u001b[36m0:00:00\u001b[0m\n",
      "\u001b[?25hBuilding wheels for collected packages: pypika\n",
      "  Building wheel for pypika (pyproject.toml) ... \u001b[?25ldone\n",
      "\u001b[?25h  Created wheel for pypika: filename=PyPika-0.48.9-py2.py3-none-any.whl size=53725 sha256=06d8001185cddc7833f44bde878ecb31bd5e90305800890a65bb2d468b907c16\n",
      "  Stored in directory: /Users/boosj/Library/Caches/pip/wheels/e1/26/51/d0bffb3d2fd82256676d7ad3003faea3bd6dddc9577af665f4\n",
      "Successfully built pypika\n",
      "Installing collected packages: pypika, mpmath, monotonic, flatbuffers, durationpy, zipp, wrapt, websockets, websocket-client, uvloop, tomli, sympy, shellingham, pyproject_hooks, pyasn1, protobuf, overrides, opentelemetry-util-http, oauthlib, mmh3, mdurl, importlib-resources, humanfriendly, httptools, grpcio, click, chroma-hnswlib, cachetools, bcrypt, backoff, asgiref, watchfiles, uvicorn, starlette, rsa, requests-oauthlib, pyasn1-modules, posthog, opentelemetry-proto, markdown-it-py, importlib-metadata, googleapis-common-protos, deprecated, coloredlogs, build, rich, opentelemetry-exporter-otlp-proto-common, opentelemetry-api, onnxruntime, google-auth, fastapi, typer, opentelemetry-semantic-conventions, kubernetes, opentelemetry-sdk, opentelemetry-instrumentation, opentelemetry-instrumentation-asgi, opentelemetry-exporter-otlp-proto-grpc, opentelemetry-instrumentation-fastapi, chromadb, langchain-chroma\n",
      "Successfully installed asgiref-3.8.1 backoff-2.2.1 bcrypt-4.2.1 build-1.2.2.post1 cachetools-5.5.0 chroma-hnswlib-0.7.6 chromadb-0.5.20 click-8.1.7 coloredlogs-15.0.1 deprecated-1.2.15 durationpy-0.9 fastapi-0.115.5 flatbuffers-24.3.25 google-auth-2.36.0 googleapis-common-protos-1.66.0 grpcio-1.68.0 httptools-0.6.4 humanfriendly-10.0 importlib-metadata-8.5.0 importlib-resources-6.4.5 kubernetes-31.0.0 langchain-chroma-0.1.4 markdown-it-py-3.0.0 mdurl-0.1.2 mmh3-5.0.1 monotonic-1.6 mpmath-1.3.0 oauthlib-3.2.2 onnxruntime-1.20.1 opentelemetry-api-1.28.2 opentelemetry-exporter-otlp-proto-common-1.28.2 opentelemetry-exporter-otlp-proto-grpc-1.28.2 opentelemetry-instrumentation-0.49b2 opentelemetry-instrumentation-asgi-0.49b2 opentelemetry-instrumentation-fastapi-0.49b2 opentelemetry-proto-1.28.2 opentelemetry-sdk-1.28.2 opentelemetry-semantic-conventions-0.49b2 opentelemetry-util-http-0.49b2 overrides-7.7.0 posthog-3.7.4 protobuf-5.29.0 pyasn1-0.6.1 pyasn1-modules-0.4.1 pypika-0.48.9 pyproject_hooks-1.2.0 requests-oauthlib-2.0.0 rich-13.9.4 rsa-4.9 shellingham-1.5.4 starlette-0.41.3 sympy-1.13.3 tomli-2.2.1 typer-0.14.0 uvicorn-0.32.1 uvloop-0.21.0 watchfiles-1.0.0 websocket-client-1.8.0 websockets-14.1 wrapt-1.17.0 zipp-3.21.0\n",
      "\n",
      "\u001b[1m[\u001b[0m\u001b[34;49mnotice\u001b[0m\u001b[1;39;49m]\u001b[0m\u001b[39;49m A new release of pip is available: \u001b[0m\u001b[31;49m23.0.1\u001b[0m\u001b[39;49m -> \u001b[0m\u001b[32;49m24.3.1\u001b[0m\n",
      "\u001b[1m[\u001b[0m\u001b[34;49mnotice\u001b[0m\u001b[1;39;49m]\u001b[0m\u001b[39;49m To update, run: \u001b[0m\u001b[32;49mpip install --upgrade pip\u001b[0m\n",
      "Note: you may need to restart the kernel to use updated packages.\n"
     ]
    }
   ],
   "source": [
    "# %pip install langchain-openai python-dotenv\n",
    "# %pip install langchain-core langchain-upstage\n",
    "# %pip install --upgrade --quiet  docx2txt\n",
    "# %pip install langchain_community\n",
    "# %pip install -qU langchain-text-splitters\n",
    "%pip install langchain-chroma"
   ]
  },
  {
   "cell_type": "markdown",
   "metadata": {},
   "source": [
    "## 주피터 노트북 팁\n",
    "- 노트 실행 에러시 노트 껏다 켜서 다시해보기"
   ]
  },
  {
   "cell_type": "code",
   "execution_count": 1,
   "metadata": {},
   "outputs": [
    {
     "data": {
      "text/plain": [
       "True"
      ]
     },
     "execution_count": 1,
     "metadata": {},
     "output_type": "execute_result"
    }
   ],
   "source": [
    "from dotenv import load_dotenv\n",
    "\n",
    "load_dotenv()"
   ]
  },
  {
   "cell_type": "markdown",
   "metadata": {},
   "source": [
    "## 모델 연결\n",
    "\n",
    "- 한국말은 임베딩 모델 Upstage AI(SolarLLM) 사용하는게 벡터간 유사도 성능 좋음\n",
    "\n",
    "- 업스테이지 가입 → 무료 30달러 크레딧 → api 키 받기 → 예시 코드 작성\n",
    "\n",
    "[랭체인 문서 링크](https://python.langchain.com/v0.2/docs/integrations/providers/upstage/)"
   ]
  },
  {
   "cell_type": "code",
   "execution_count": 2,
   "metadata": {},
   "outputs": [],
   "source": [
    "# from langchain_openai import ChatOpenAI\n",
    "# llm = ChatOpenAI()\n",
    "# llm.invoke(\"한국의 수도는?\")\n",
    "\n",
    "from langchain_upstage import ChatUpstage\n",
    "\n",
    "chat = ChatUpstage()"
   ]
  },
  {
   "cell_type": "code",
   "execution_count": 3,
   "metadata": {},
   "outputs": [
    {
     "name": "stdout",
     "output_type": "stream",
     "text": [
      "content='대한민국의 수도는 서울입니다. 서울은 한국에서 가장 큰 도시이기도 하며, 정치, 경제, 문화, 교통의 중심지입니다. 서울은 한강을 중심으로 한 도시로, 다양한 역사적인 유적지와 현대적인 건축물, 맛있는 음식, 활발한 밤문화 등으로 유명합니다. 서울은 세계적인 도시 중 하나로 꼽히며, 많은 관광객들이 방문하는 인기 있는 도시입니다.' additional_kwargs={'refusal': None} response_metadata={'token_usage': {'completion_tokens': 78, 'prompt_tokens': 15, 'total_tokens': 93, 'completion_tokens_details': None, 'prompt_tokens_details': None}, 'model_name': 'solar-mini-240612', 'system_fingerprint': None, 'finish_reason': 'stop', 'logprobs': None} id='run-0615670f-91b0-4c4b-95c6-a3b1b4820cc9-0' usage_metadata={'input_tokens': 15, 'output_tokens': 78, 'total_tokens': 93, 'input_token_details': {}, 'output_token_details': {}}\n"
     ]
    }
   ],
   "source": [
    "response = chat.invoke(\"한국의 수도는?\")\n",
    "print(response)"
   ]
  },
  {
   "cell_type": "markdown",
   "metadata": {},
   "source": [
    "## 문서 로드\n",
    "\n",
    "\n",
    "[소득세법 문서 출처](https://law.go.kr/%EB%B2%95%EB%A0%B9/%EC%86%8C%EB%93%9D%EC%84%B8%EB%B2%95)\n",
    "\n",
    "- 자료는 워드로 다운 받는게 좋음.\n",
    "- pdf는 줄바꿈시 한글 단어가 짤릴 수 있음\n",
    "- 워드 문서 다운 받은 후 확장자를 doc에서 docx로 변경 필요\n",
    "\n",
    "[랭체인 문서](https://python.langchain.com/v0.2/docs/integrations/document_loaders/microsoft_word/#using-docx2txt)"
   ]
  },
  {
   "cell_type": "code",
   "execution_count": null,
   "metadata": {},
   "outputs": [
    {
     "data": {
      "text/plain": [
       "[Document(metadata={'source': './dorm.md'}, page_content='# SK 하이닉스 이천 기숙사\\n\\n## 소개\\n\\n이천 기숙사는 경기도 이천시 부발읍 일대 44만 평 부지에 4개 Site, 17개동, 3,200여 개 호실을 갖추고 여러분을 기다리고 있습니다.\\n기숙사와 함께 다양한 커뮤니티 시설이 제공되며 라운지, 카페, 헬스장, 문화 강좌실 등 생활지원시설 및 문화시설에서 입숙인들이 안전하고 편안한 시간을 즐길 수 있도록 다양한 지원과 서비스를 준비하고 있습니다.\\n\\n## 기숙사동\\n\\n1. 행복1마을\\n\\n   - 주소: 경기도 이천시 대산로 288번길, 89\\n\\n2. 행복2마을\\n\\n   - 주소: 경기도 이천시 대월면 대산로 288번길, 48\\n\\n3. 청운기숙사\\n\\n   - 주소: 경기도 이천시 부발읍 경충대로 2091 SK하이닉스 청운관\\n\\n4. 현우기숙사\\n\\n   - 주소: 경기도 이천시 부발읍 경충대로 2041번길, 54\\n\\n## 기숙사 홈페이지\\n\\n- 홈페이지 이름: 하이홈(Hihome)\\n- 주소: https://hihome.skhynix.com/main\\n- 설명: 구성원의 생활/지원 서비스(입·퇴실, 이동, 하자 등)는 더욱 빠르게 해결하고, 주거 시설 Infra (Cafétreia, 주차, 택배 등) 및 문화/편의시설 운영 정보도 실시간으로 제공해 더욱 편리한 생활을 지원합니다\\n\\n## 관리지원 센터 및 시설 연락처와 운영정보\\n\\n- 현우기숙사 생활지원센터\\n\\n* 연락처: 031-5185-3420\\n* 위치: 경기도 이천시 부발읍 경중대로 2041번길 54 현우기숙사\\n* 운영시간: 평일 08:30~17:30 / 유연근무\\n\\n- 행복마을 시설관리\\n\\n* 연락처: 031-5185-3883\\n* 위치: [ 행복 1마을 ]경기도 이천시 대산로 288번길, 89 [ 행복 2마을 ] 경기도 이천시 대산로 288번길, 48\\n* 운영시간: 평일 08:30~17:30 / 유연근무\\n\\n- 청운기숙사 생활지원센터\\n\\n* 연락처: 031-5185-3420\\n* 위치: 경기도 이천시 부발읍 경충대로 2091 SK하이닉스 (청운관)\\n* 운영시간: 평일 08:30~17:30 / 유연근무\\n\\n- 행복마을 입숙/퇴숙\\n\\n* 연락처: 031-5185-4083\\n* 위치: [ 행복 1마을 ]경기도 이천시 대산로 288번길, 89 [ 행복 2마을 ] 경기도 이천시 대산로 288번길, 48\\n* 운영시간: 평일 08:30~17:30 / 유연근무\\n\\n- 행복마을 문화센터\\n\\n* 연락처: 031-5185-4086\\n* 위치: [ 행복 1마을 ]경기도 이천시 대산로 288번길, 89 [ 행복 2마을 ] 경기도 이천시 대산로 288번길, 48\\n* 운영시간: 평일 08:30~17:30 / 유연근무\\n\\n- 행복 1마을 경비실\\n\\n* 연락처: 031-633-1968\\n* 위치: 경기도 이천시 대산로 288번길, 89 (행복1마을)\\n* 운영시간: 24시간\\n\\n- 행복 2마을 경비실\\n\\n* 연락처: 031-5185-4073\\n* 위치: 경기도 이천시 대산로 288번길, 48 (행복2마을)\\n* 운영시간: 24시간\\n\\n- 청운 기숙사 1관 경비실\\n\\n* 연락처: 010-3294-4231\\n* 위치: 경기도 이천시 부발읍 경충대로 2091 SK하이닉스 (청운관)\\n* 운영시간: 24시간\\n\\n- 청운 기숙사 2관 경비실\\n\\n* 연락처: 010-3453-4231\\n* 위치: 경기도 이천시 부발읍 경충대로 2091 SK하이닉스 (청운관)\\n* 운영시간: 24시간\\n\\n- 청운 기숙사 3관 경비실\\n\\n* 연락처: 010-3428-4231\\n* 위치: 경기도 이천시 부발읍 경충대로 2091 SK하이닉스 (청운관)\\n* 운영시간: 24시간\\n\\n- 청운 기숙사 4관 경비실\\n\\n* 연락처: 010-3296-4231\\n* 위치: 경기도 이천시 부발읍 경충대로 2091 SK하이닉스 (청운관)\\n* 운영시간: 24시간\\n\\n- 청운 기숙사 5관 경비실\\n\\n* 연락처: 010-3295-4231\\n* 위치: 경기도 이천시 부발읍 경충대로 2091 SK하이닉스 (청운관)\\n* 운영시간: 24시간\\n\\n- 청운 기숙사 6관 경비실\\n\\n* 연락처: 010-3462-4231\\n* 위치: 경기도 이천시 부발읍 경충대로 2091 SK하이닉스 (청운관)\\n* 운영시간: 24시간\\n\\n- 택배센터\\n\\n* 연락처:\\n  - 031-633-2306\\n  - 031-694-3407\\n  - 031-8094-7828\\n* 위치:\\n  - 행복1마을 복지A동 1층\\n  - 행복2마을 커뮤니티센터 2층\\n  - 현우기숙사 입구\\n* 운영시간: 평일 09:30~21:00, 토요일 09:30~17:30 (일요일/공휴일휴무)\\n\\n- 피트니스센터-행복1마을 (프리웨이트존)\\n\\n* 연락처: 031-8094-7717\\n* 위치: 행복1마을 복지A동 지하1층\\n* 운영시간: 24시간\\n\\n- 피트니스센터-행복2마을\\n\\n* 연락처: 031-8094-7768\\n* 위치: 행복2마을 커뮤니티센터2층\\n* 운영시간: 05:30~24:00\\n\\n- 피트니스센터-청운체육관\\n\\n* 연락처: 031-8094-7745\\n* 위치: 청운5관 맞은편\\n* 운영시간: 05:30~24:00\\n\\n- 스피닝\\n\\n* 연락처: 031-5185-4085\\n* 위치: 행복2마을 커뮤니티센터1층\\n* 운영시간: 월~금, 08:00~21:30\\n\\n- GX룸\\n\\n* 연락처: 031-5185-4085\\n* 위치: 행복2마을 커뮤니티센터1층\\n* 운영시간: 24시간(요가-화/목 수업, 11:00~21:00)\\n\\n- 골프\\n\\n* 연락처: 070-8718-3456 (주말전용)\\n* 위치: 행복1마을 복지A동 지하1층\\n* 운영시간: 06:00~22:00 (단,주말/공휴일레슨없음)\\n\\n- 체육관-행복2마을 (배드민턴/스쿼시)\\n\\n* 연락처: 031-5185-4085\\n* 위치: 행복2마을 커뮤니티센터3층\\n* 운영시간: 24시간\\n\\n- 체육관-청운체육관\\n\\n* 연락처: 031-8094-7745\\n* 위치: 청운5관 맞은편\\n\\n- 피아노실-행복2마을\\n\\n* 연락처: 031-5185-4085(문화 강좌담당 정민화)\\n* 위치: 행복2마을 커뮤니티센터1층\\n* 운영시간: -\\n\\n- 도서관/도서실-행복2마을\\n\\n* 연락처: 031-5185-3883\\n* 위치: 행복2마을 커뮤니티센터3층\\n* 운영시간: 24시간\\n\\n- 고담극장-행복1마을\\n\\n* 연락처: 031-5185-4085\\n* 위치: 행복1마을 복지B동2층\\n* 운영시간: 별도 운영 (고담극장 공지 참조)\\n\\n- 문화센터-행복2마을\\n\\n* 연락처: 031-5185-4085\\n* 위치: 행복2마을 커뮤니티센터 1층\\n* 운영시간: 강좌별 상이 (문화강좌 안내 참조)\\n\\n- 요리 강좌실-행복2마을\\n\\n* 연락처: 031-5185-4085\\n* 위치: 행복2마을 커뮤니티센터 1층\\n* 운영시간: 10:00~13:30, 18:00~21:30 (강좌별 상이)\\n\\n- 제과제빵/바리스타실-행복2마을\\n\\n* 연락처: 031-5185-4085\\n* 위치: 행복2마을 커뮤니티센터 1층\\n* 운영시간: 월,화,수 10:30~ 13:00 / 18:00\\n\\n- 공예실-행복2마을\\n\\n* 연락처: 031-5185-4085\\n* 위치: 행복2마을 커뮤니티센터 1층\\n* 운영시간: 강좌진행시 운영(월~목)\\n\\n- 슈퍼마켓-행복1마을 (하이플러스)\\n\\n* 연락처: 010-3242-4004(개인폰)\\n* 위치: 행복1마을 복지B동 1층\\n* 운영시간: 06:00~24:00\\n\\n- 슈퍼마켓-행복2마을 (하이플러스)\\n\\n* 연락처: 031-8094-7010,20\\n* 위치: 행복2마을 커뮤니티센터 2층\\n* 운영시간: 06:00~24:00\\n\\n- 세탁소-행복1마을\\n\\n* 연락처: 031-633-6936, 010-5404-5167(이영희 사장)\\n* 위치: 행복1마을 복지B동 1층 크린토피아\\n* 운영시간: 평일 09:30~20:00 토요일 10:00~18:00 (일요일 휴뮤)\\n\\n- 세탁소-행복2마을\\n\\n* 연락처: 070-4895-3777\\n* 위치: 행복2마을 커뮤니티센터 1층\\n* 운영시간: 무인수거함으로 운영\\n\\n- 헤어피부샵\\n\\n* 연락처: 070-7622-3543\\n* 위치: 행복2마을 커뮤니티센터 2층\\n* 운영시간: 평일 09:00~21:30 토요일 09:00~16:00 (일요일 휴뮤)\\n\\n- 아트피자/치킨\\n\\n* 연락처: 031-8094-8721\\n* 위치: 행복2마을 커뮤니티센터 2층\\n* 운영시간: 06:00~21:00(배달은 마감 1시간전주문만 가능) / 09:00~18:00(배달은 마감 1시간전주문만 가능)\\n')]"
      ]
     },
     "execution_count": 4,
     "metadata": {},
     "output_type": "execute_result"
    }
   ],
   "source": [
    "# 문서 로드\n",
    "from langchain_community.document_loaders import Docx2txtLoader, TextLoader\n",
    "\n",
    "loader = TextLoader(\"./docs/dorm.md\")\n",
    "data = loader.load()\n",
    "data"
   ]
  },
  {
   "cell_type": "markdown",
   "metadata": {},
   "source": [
    "## 텍스트 쪼개기\n",
    "\n",
    "- 텍스틑 쪼개는 방법은 보통 recursive 또는 character를 사용함.\n",
    "- recursive가 구분자 설정을 할 수 있어서 성능이 더 좋음\n",
    "\n",
    "[랭체인 문서](https://python.langchain.com/v0.2/docs/how_to/recursive_text_splitter/)"
   ]
  },
  {
   "cell_type": "code",
   "execution_count": 5,
   "metadata": {},
   "outputs": [],
   "source": [
    "# 문서 쪼개기\n",
    "from langchain_text_splitters import RecursiveCharacterTextSplitter\n",
    "\n",
    "\n",
    "text_splitter = RecursiveCharacterTextSplitter(\n",
    "    # Set a really small chunk size, just to show.\n",
    "    chunk_size=1500,\n",
    "    chunk_overlap=200,\n",
    "    # length_function=len,\n",
    "    # is_separator_regex=False,\n",
    ")\n",
    "\n",
    "document_list = loader.load_and_split(text_splitter=text_splitter)"
   ]
  },
  {
   "cell_type": "code",
   "execution_count": 6,
   "metadata": {},
   "outputs": [
    {
     "data": {
      "text/plain": [
       "Document(metadata={'source': './dorm.md'}, page_content='# SK 하이닉스 이천 기숙사\\n\\n## 소개\\n\\n이천 기숙사는 경기도 이천시 부발읍 일대 44만 평 부지에 4개 Site, 17개동, 3,200여 개 호실을 갖추고 여러분을 기다리고 있습니다.\\n기숙사와 함께 다양한 커뮤니티 시설이 제공되며 라운지, 카페, 헬스장, 문화 강좌실 등 생활지원시설 및 문화시설에서 입숙인들이 안전하고 편안한 시간을 즐길 수 있도록 다양한 지원과 서비스를 준비하고 있습니다.\\n\\n## 기숙사동\\n\\n1. 행복1마을\\n\\n   - 주소: 경기도 이천시 대산로 288번길, 89\\n\\n2. 행복2마을\\n\\n   - 주소: 경기도 이천시 대월면 대산로 288번길, 48\\n\\n3. 청운기숙사\\n\\n   - 주소: 경기도 이천시 부발읍 경충대로 2091 SK하이닉스 청운관\\n\\n4. 현우기숙사\\n\\n   - 주소: 경기도 이천시 부발읍 경충대로 2041번길, 54\\n\\n## 기숙사 홈페이지\\n\\n- 홈페이지 이름: 하이홈(Hihome)\\n- 주소: https://hihome.skhynix.com/main\\n- 설명: 구성원의 생활/지원 서비스(입·퇴실, 이동, 하자 등)는 더욱 빠르게 해결하고, 주거 시설 Infra (Cafétreia, 주차, 택배 등) 및 문화/편의시설 운영 정보도 실시간으로 제공해 더욱 편리한 생활을 지원합니다\\n\\n## 관리지원 센터 및 시설 연락처와 운영정보\\n\\n- 현우기숙사 생활지원센터\\n\\n* 연락처: 031-5185-3420\\n* 위치: 경기도 이천시 부발읍 경중대로 2041번길 54 현우기숙사\\n* 운영시간: 평일 08:30~17:30 / 유연근무\\n\\n- 행복마을 시설관리\\n\\n* 연락처: 031-5185-3883\\n* 위치: [ 행복 1마을 ]경기도 이천시 대산로 288번길, 89 [ 행복 2마을 ] 경기도 이천시 대산로 288번길, 48\\n* 운영시간: 평일 08:30~17:30 / 유연근무\\n\\n- 청운기숙사 생활지원센터\\n\\n* 연락처: 031-5185-3420\\n* 위치: 경기도 이천시 부발읍 경충대로 2091 SK하이닉스 (청운관)\\n* 운영시간: 평일 08:30~17:30 / 유연근무\\n\\n- 행복마을 입숙/퇴숙\\n\\n* 연락처: 031-5185-4083\\n* 위치: [ 행복 1마을 ]경기도 이천시 대산로 288번길, 89 [ 행복 2마을 ] 경기도 이천시 대산로 288번길, 48\\n* 운영시간: 평일 08:30~17:30 / 유연근무\\n\\n- 행복마을 문화센터\\n\\n* 연락처: 031-5185-4086\\n* 위치: [ 행복 1마을 ]경기도 이천시 대산로 288번길, 89 [ 행복 2마을 ] 경기도 이천시 대산로 288번길, 48\\n* 운영시간: 평일 08:30~17:30 / 유연근무\\n\\n- 행복 1마을 경비실\\n\\n* 연락처: 031-633-1968\\n* 위치: 경기도 이천시 대산로 288번길, 89 (행복1마을)\\n* 운영시간: 24시간\\n\\n- 행복 2마을 경비실\\n\\n* 연락처: 031-5185-4073\\n* 위치: 경기도 이천시 대산로 288번길, 48 (행복2마을)\\n* 운영시간: 24시간\\n\\n- 청운 기숙사 1관 경비실')"
      ]
     },
     "execution_count": 6,
     "metadata": {},
     "output_type": "execute_result"
    }
   ],
   "source": [
    "# len(document_list)\n",
    "# print(type(document_list))\n",
    "# print(type(document_list[0]))\n",
    "# print(document_list[0])\n",
    "document_list[0]"
   ]
  },
  {
   "cell_type": "markdown",
   "metadata": {},
   "source": [
    "# 임베딩\n",
    "\n",
    "[업스테이지 문서](https://console.upstage.ai/docs/capabilities/embeddings)\n",
    "\n",
    "[크로마 랭체인 문서]()"
   ]
  },
  {
   "cell_type": "code",
   "execution_count": 3,
   "metadata": {},
   "outputs": [],
   "source": [
    "# 임베딩\n",
    "\n",
    "# from langchain_openai import AzureOpenAIEmbeddings\n",
    "from langchain_upstage import UpstageEmbeddings\n",
    "\n",
    "\n",
    "embedding = UpstageEmbeddings(\n",
    "    model=\"embedding-query\"\n",
    ")"
   ]
  },
  {
   "cell_type": "code",
   "execution_count": null,
   "metadata": {},
   "outputs": [],
   "source": [
    "# class CustomEmbeddings:\n",
    "#     def __init__(self, model):\n",
    "#         self.model = model\n",
    "#     def embed_document(self):\n",
    "\n"
   ]
  },
  {
   "cell_type": "code",
   "execution_count": null,
   "metadata": {},
   "outputs": [],
   "source": [
    "from langchain_chroma import Chroma\n",
    "\n",
    "database = Chroma(collection_name=\"dorm\",\n",
    "    embedding_function=embedding)\n",
    "database.add_documents(documents=document_list)\n",
    "\n"
   ]
  },
  {
   "cell_type": "code",
   "execution_count": 20,
   "metadata": {},
   "outputs": [
    {
     "data": {
      "text/plain": [
       "<bound method UpstageEmbeddings.aembed_documents of UpstageEmbeddings(client=<openai.resources.embeddings.Embeddings object at 0x10d38dff0>, async_client=<openai.resources.embeddings.AsyncEmbeddings object at 0x10d7f3e20>, model='embedding', dimensions=None, upstage_api_key=SecretStr('**********'), upstage_api_base='https://api.upstage.ai/v1/solar', embedding_ctx_length=4096, embed_batch_size=10, allowed_special=set(), disallowed_special='all', chunk_size=1000, max_retries=2, request_timeout=None, show_progress_bar=False, model_kwargs={}, skip_empty=False, default_headers=None, default_query=None, http_client=None, http_async_client=None)>"
      ]
     },
     "execution_count": 20,
     "metadata": {},
     "output_type": "execute_result"
    }
   ],
   "source": [
    "embedding.aembed_documents"
   ]
  },
  {
   "cell_type": "code",
   "execution_count": 4,
   "metadata": {},
   "outputs": [],
   "source": [
    "from langchain_chroma import Chroma\n",
    "\n",
    "# # 인메모리가 아닌 sqlite로 저장하는 방법\n",
    "# database = Chroma.from_documents(documents=document_list, embedding=embedding, collection_name=\"chroma-tax\", persist_directory=\"./chroma\")\n",
    "\n",
    "# 저장한 크로마 불러오는 방법\n",
    "database = Chroma(collection_name=\"dorm\", persist_directory=\"./chroma_db\", embedding_function=embedding)"
   ]
  },
  {
   "cell_type": "code",
   "execution_count": 9,
   "metadata": {},
   "outputs": [
    {
     "data": {
      "text/plain": [
       "['a2460edc-d58b-4d0d-a3a6-afaa7684bd66',\n",
       " 'c9fc58ec-410b-401a-a6c1-c6fad968c2a3',\n",
       " '72c2f030-991b-4b87-89e8-2b7512cb50dc']"
      ]
     },
     "execution_count": 9,
     "metadata": {},
     "output_type": "execute_result"
    }
   ],
   "source": [
    "database.add_documents(documents=document_list)"
   ]
  },
  {
   "cell_type": "code",
   "execution_count": 5,
   "metadata": {},
   "outputs": [
    {
     "name": "stderr",
     "output_type": "stream",
     "text": [
      "Number of requested results 4 is greater than number of elements in index 3, updating n_results = 3\n"
     ]
    }
   ],
   "source": [
    "# 존대말로 하면 답변을 잘해줌\n",
    "# 영어에서는 please\n",
    "query = '행복2마을 헬스장 운영시간은?'\n",
    "# 유사도 검색\n",
    "retrieved_docs = database.similarity_search(query, k=4)"
   ]
  },
  {
   "cell_type": "code",
   "execution_count": 6,
   "metadata": {},
   "outputs": [
    {
     "data": {
      "text/plain": [
       "[Document(metadata={'source': './dorm.md'}, page_content='- 골프\\n\\n* 연락처: 070-8718-3456 (주말전용)\\n* 위치: 행복1마을 복지A동 지하1층\\n* 운영시간: 06:00~22:00 (단,주말/공휴일레슨없음)\\n\\n- 체육관-행복2마을 (배드민턴/스쿼시)\\n\\n* 연락처: 031-5185-4085\\n* 위치: 행복2마을 커뮤니티센터3층\\n* 운영시간: 24시간\\n\\n- 체육관-청운체육관\\n\\n* 연락처: 031-8094-7745\\n* 위치: 청운5관 맞은편\\n\\n- 피아노실-행복2마을\\n\\n* 연락처: 031-5185-4085(문화 강좌담당 정민화)\\n* 위치: 행복2마을 커뮤니티센터1층\\n* 운영시간: -\\n\\n- 도서관/도서실-행복2마을\\n\\n* 연락처: 031-5185-3883\\n* 위치: 행복2마을 커뮤니티센터3층\\n* 운영시간: 24시간\\n\\n- 고담극장-행복1마을\\n\\n* 연락처: 031-5185-4085\\n* 위치: 행복1마을 복지B동2층\\n* 운영시간: 별도 운영 (고담극장 공지 참조)\\n\\n- 문화센터-행복2마을\\n\\n* 연락처: 031-5185-4085\\n* 위치: 행복2마을 커뮤니티센터 1층\\n* 운영시간: 강좌별 상이 (문화강좌 안내 참조)\\n\\n- 요리 강좌실-행복2마을\\n\\n* 연락처: 031-5185-4085\\n* 위치: 행복2마을 커뮤니티센터 1층\\n* 운영시간: 10:00~13:30, 18:00~21:30 (강좌별 상이)\\n\\n- 제과제빵/바리스타실-행복2마을\\n\\n* 연락처: 031-5185-4085\\n* 위치: 행복2마을 커뮤니티센터 1층\\n* 운영시간: 월,화,수 10:30~ 13:00 / 18:00\\n\\n- 공예실-행복2마을\\n\\n* 연락처: 031-5185-4085\\n* 위치: 행복2마을 커뮤니티센터 1층\\n* 운영시간: 강좌진행시 운영(월~목)\\n\\n- 슈퍼마켓-행복1마을 (하이플러스)\\n\\n* 연락처: 010-3242-4004(개인폰)\\n* 위치: 행복1마을 복지B동 1층\\n* 운영시간: 06:00~24:00\\n\\n- 슈퍼마켓-행복2마을 (하이플러스)\\n\\n* 연락처: 031-8094-7010,20\\n* 위치: 행복2마을 커뮤니티센터 2층\\n* 운영시간: 06:00~24:00\\n\\n- 세탁소-행복1마을\\n\\n* 연락처: 031-633-6936, 010-5404-5167(이영희 사장)\\n* 위치: 행복1마을 복지B동 1층 크린토피아\\n* 운영시간: 평일 09:30~20:00 토요일 10:00~18:00 (일요일 휴뮤)\\n\\n- 세탁소-행복2마을\\n\\n* 연락처: 070-4895-3777\\n* 위치: 행복2마을 커뮤니티센터 1층\\n* 운영시간: 무인수거함으로 운영\\n\\n- 헤어피부샵\\n\\n* 연락처: 070-7622-3543\\n* 위치: 행복2마을 커뮤니티센터 2층\\n* 운영시간: 평일 09:00~21:30 토요일 09:00~16:00 (일요일 휴뮤)\\n\\n- 아트피자/치킨\\n\\n* 연락처: 031-8094-8721\\n* 위치: 행복2마을 커뮤니티센터 2층\\n* 운영시간: 06:00~21:00(배달은 마감 1시간전주문만 가능) / 09:00~18:00(배달은 마감 1시간전주문만 가능)'),\n",
       " Document(metadata={'source': './dorm.md'}, page_content='- 행복 1마을 경비실\\n\\n* 연락처: 031-633-1968\\n* 위치: 경기도 이천시 대산로 288번길, 89 (행복1마을)\\n* 운영시간: 24시간\\n\\n- 행복 2마을 경비실\\n\\n* 연락처: 031-5185-4073\\n* 위치: 경기도 이천시 대산로 288번길, 48 (행복2마을)\\n* 운영시간: 24시간\\n\\n- 청운 기숙사 1관 경비실\\n\\n* 연락처: 010-3294-4231\\n* 위치: 경기도 이천시 부발읍 경충대로 2091 SK하이닉스 (청운관)\\n* 운영시간: 24시간\\n\\n- 청운 기숙사 2관 경비실\\n\\n* 연락처: 010-3453-4231\\n* 위치: 경기도 이천시 부발읍 경충대로 2091 SK하이닉스 (청운관)\\n* 운영시간: 24시간\\n\\n- 청운 기숙사 3관 경비실\\n\\n* 연락처: 010-3428-4231\\n* 위치: 경기도 이천시 부발읍 경충대로 2091 SK하이닉스 (청운관)\\n* 운영시간: 24시간\\n\\n- 청운 기숙사 4관 경비실\\n\\n* 연락처: 010-3296-4231\\n* 위치: 경기도 이천시 부발읍 경충대로 2091 SK하이닉스 (청운관)\\n* 운영시간: 24시간\\n\\n- 청운 기숙사 5관 경비실\\n\\n* 연락처: 010-3295-4231\\n* 위치: 경기도 이천시 부발읍 경충대로 2091 SK하이닉스 (청운관)\\n* 운영시간: 24시간\\n\\n- 청운 기숙사 6관 경비실\\n\\n* 연락처: 010-3462-4231\\n* 위치: 경기도 이천시 부발읍 경충대로 2091 SK하이닉스 (청운관)\\n* 운영시간: 24시간\\n\\n- 택배센터\\n\\n* 연락처:\\n  - 031-633-2306\\n  - 031-694-3407\\n  - 031-8094-7828\\n* 위치:\\n  - 행복1마을 복지A동 1층\\n  - 행복2마을 커뮤니티센터 2층\\n  - 현우기숙사 입구\\n* 운영시간: 평일 09:30~21:00, 토요일 09:30~17:30 (일요일/공휴일휴무)\\n\\n- 피트니스센터-행복1마을 (프리웨이트존)\\n\\n* 연락처: 031-8094-7717\\n* 위치: 행복1마을 복지A동 지하1층\\n* 운영시간: 24시간\\n\\n- 피트니스센터-행복2마을\\n\\n* 연락처: 031-8094-7768\\n* 위치: 행복2마을 커뮤니티센터2층\\n* 운영시간: 05:30~24:00\\n\\n- 피트니스센터-청운체육관\\n\\n* 연락처: 031-8094-7745\\n* 위치: 청운5관 맞은편\\n* 운영시간: 05:30~24:00\\n\\n- 스피닝\\n\\n* 연락처: 031-5185-4085\\n* 위치: 행복2마을 커뮤니티센터1층\\n* 운영시간: 월~금, 08:00~21:30\\n\\n- GX룸\\n\\n* 연락처: 031-5185-4085\\n* 위치: 행복2마을 커뮤니티센터1층\\n* 운영시간: 24시간(요가-화/목 수업, 11:00~21:00)\\n\\n- 골프\\n\\n* 연락처: 070-8718-3456 (주말전용)\\n* 위치: 행복1마을 복지A동 지하1층\\n* 운영시간: 06:00~22:00 (단,주말/공휴일레슨없음)\\n\\n- 체육관-행복2마을 (배드민턴/스쿼시)\\n\\n* 연락처: 031-5185-4085\\n* 위치: 행복2마을 커뮤니티센터3층\\n* 운영시간: 24시간\\n\\n- 체육관-청운체육관'),\n",
       " Document(metadata={'source': './dorm.md'}, page_content='# SK 하이닉스 이천 기숙사\\n\\n## 소개\\n\\n이천 기숙사는 경기도 이천시 부발읍 일대 44만 평 부지에 4개 Site, 17개동, 3,200여 개 호실을 갖추고 여러분을 기다리고 있습니다.\\n기숙사와 함께 다양한 커뮤니티 시설이 제공되며 라운지, 카페, 헬스장, 문화 강좌실 등 생활지원시설 및 문화시설에서 입숙인들이 안전하고 편안한 시간을 즐길 수 있도록 다양한 지원과 서비스를 준비하고 있습니다.\\n\\n## 기숙사동\\n\\n1. 행복1마을\\n\\n   - 주소: 경기도 이천시 대산로 288번길, 89\\n\\n2. 행복2마을\\n\\n   - 주소: 경기도 이천시 대월면 대산로 288번길, 48\\n\\n3. 청운기숙사\\n\\n   - 주소: 경기도 이천시 부발읍 경충대로 2091 SK하이닉스 청운관\\n\\n4. 현우기숙사\\n\\n   - 주소: 경기도 이천시 부발읍 경충대로 2041번길, 54\\n\\n## 기숙사 홈페이지\\n\\n- 홈페이지 이름: 하이홈(Hihome)\\n- 주소: https://hihome.skhynix.com/main\\n- 설명: 구성원의 생활/지원 서비스(입·퇴실, 이동, 하자 등)는 더욱 빠르게 해결하고, 주거 시설 Infra (Cafétreia, 주차, 택배 등) 및 문화/편의시설 운영 정보도 실시간으로 제공해 더욱 편리한 생활을 지원합니다\\n\\n## 관리지원 센터 및 시설 연락처와 운영정보\\n\\n- 현우기숙사 생활지원센터\\n\\n* 연락처: 031-5185-3420\\n* 위치: 경기도 이천시 부발읍 경중대로 2041번길 54 현우기숙사\\n* 운영시간: 평일 08:30~17:30 / 유연근무\\n\\n- 행복마을 시설관리\\n\\n* 연락처: 031-5185-3883\\n* 위치: [ 행복 1마을 ]경기도 이천시 대산로 288번길, 89 [ 행복 2마을 ] 경기도 이천시 대산로 288번길, 48\\n* 운영시간: 평일 08:30~17:30 / 유연근무\\n\\n- 청운기숙사 생활지원센터\\n\\n* 연락처: 031-5185-3420\\n* 위치: 경기도 이천시 부발읍 경충대로 2091 SK하이닉스 (청운관)\\n* 운영시간: 평일 08:30~17:30 / 유연근무\\n\\n- 행복마을 입숙/퇴숙\\n\\n* 연락처: 031-5185-4083\\n* 위치: [ 행복 1마을 ]경기도 이천시 대산로 288번길, 89 [ 행복 2마을 ] 경기도 이천시 대산로 288번길, 48\\n* 운영시간: 평일 08:30~17:30 / 유연근무\\n\\n- 행복마을 문화센터\\n\\n* 연락처: 031-5185-4086\\n* 위치: [ 행복 1마을 ]경기도 이천시 대산로 288번길, 89 [ 행복 2마을 ] 경기도 이천시 대산로 288번길, 48\\n* 운영시간: 평일 08:30~17:30 / 유연근무\\n\\n- 행복 1마을 경비실\\n\\n* 연락처: 031-633-1968\\n* 위치: 경기도 이천시 대산로 288번길, 89 (행복1마을)\\n* 운영시간: 24시간\\n\\n- 행복 2마을 경비실\\n\\n* 연락처: 031-5185-4073\\n* 위치: 경기도 이천시 대산로 288번길, 48 (행복2마을)\\n* 운영시간: 24시간\\n\\n- 청운 기숙사 1관 경비실')]"
      ]
     },
     "execution_count": 6,
     "metadata": {},
     "output_type": "execute_result"
    }
   ],
   "source": [
    "retrieved_docs\n"
   ]
  },
  {
   "cell_type": "markdown",
   "metadata": {},
   "source": [
    "# Chat\n",
    "- OpenAI  \n",
    "[랭체인 문서](https://python.langchain.com/v0.2/docs/integrations/chat/openai/#integration-details)\n",
    "\n",
    "- Upstage  \n",
    "[랭체인 문서](https://python.langchain.com/docs/integrations/chat/upstage/)"
   ]
  },
  {
   "cell_type": "code",
   "execution_count": 12,
   "metadata": {},
   "outputs": [],
   "source": [
    "from langchain_upstage import ChatUpstage\n",
    "\n",
    "llm = ChatUpstage()"
   ]
  },
  {
   "cell_type": "code",
   "execution_count": 12,
   "metadata": {},
   "outputs": [],
   "source": [
    "# 페르소나 주입\n",
    "prompt = f\"\"\"[Identity]\n",
    "- [Context]를 참고해서 [Questions]에 답변해주세요\n",
    "\n",
    "[Context]\n",
    "{retrieved_docs}\n",
    "\n",
    "[Questions]\n",
    "{query}\n",
    "\"\"\"\n"
   ]
  },
  {
   "cell_type": "code",
   "execution_count": 13,
   "metadata": {},
   "outputs": [],
   "source": [
    "ai_message  =llm.invoke(prompt)"
   ]
  },
  {
   "cell_type": "code",
   "execution_count": 14,
   "metadata": {},
   "outputs": [
    {
     "data": {
      "text/plain": [
       "'연봉이 5천만원인 직장인의 경우, 소득세는 다음과 같이 계산됩니다.\\n\\n소득세율은 누진세율로 적용되며, 소득이 높아질수록 세율도 높아집니다. 따라서, 5천만원인 경우의 소득세는 다음과 같이 계산됩니다.\\n\\n1. 총 급여액에서 근로소득공제액을 뺍니다.\\n2. 근로소득공제액을 뺀 금액에 대한 소득세를 계산합니다.\\n3. 계산된 소득세에서 추가 공제액(예: 인적공제, 연금공제, 의료비공제 등)을 뺍니다.\\n4. 최종적으로 납부해야 할 소득세를 계산합니다.\\n\\n연봉이 5천만원인 경우, 소득세는 1,962,000원이 됩니다.'"
      ]
     },
     "execution_count": 14,
     "metadata": {},
     "output_type": "execute_result"
    }
   ],
   "source": [
    "ai_message.content\n"
   ]
  },
  {
   "cell_type": "markdown",
   "metadata": {},
   "source": [
    "# Langchain을 활용해서 매번 세팅 안해주는법\n",
    "\n",
    "## LangchainQA\n",
    "- deprecated 됨\n",
    "- __create_retrieval_chain__ 이용\n",
    "  \n",
    "[Migration 문서](https://python.langchain.com/docs/versions/migrating_chains/retrieval_qa/)\n",
    "  \n",
    "[create_retrieval_chain 문서](https://python.langchain.com/api_reference/langchain/chains/langchain.chains.retrieval.create_retrieval_chain.html#langchain-chains-retrieval-create-retrieval-chain)"
   ]
  },
  {
   "cell_type": "code",
   "execution_count": 19,
   "metadata": {},
   "outputs": [],
   "source": [
    "# 저장한 크로마 불러오는 방법\n",
    "database = Chroma(collection_name=\"dorm\", persist_directory=\"./chroma_db\", embedding_function=embedding)\n",
    "\n",
    "query = '세탁소 연락처는?'\n",
    "llm = ChatUpstage()\n",
    "\n",
    "\n"
   ]
  },
  {
   "cell_type": "code",
   "execution_count": 20,
   "metadata": {},
   "outputs": [
    {
     "name": "stderr",
     "output_type": "stream",
     "text": [
      "/Users/boosj/.pyenv/versions/3.10.15/envs/llm/lib/python3.10/site-packages/langsmith/client.py:241: LangSmithMissingAPIKeyWarning: API key must be provided when using hosted LangSmith API\n",
      "  warnings.warn(\n",
      "Number of requested results 4 is greater than number of elements in index 3, updating n_results = 3\n"
     ]
    }
   ],
   "source": [
    "from langchain import hub\n",
    "\n",
    "# Lagacy\n",
    "# prompt = hub.pull(\"rlm/rag-prompt\")\n",
    "\n",
    "# qa_chain = RetrievalQA.from_llm(\n",
    "#     llm, \n",
    "#     retriever=database.as_retriever(),\n",
    "#     chain_type_kwargs={\"prompt\": prompt}\n",
    "# )\n",
    "\n",
    "# ai_message = qa_chain({\"query\": query})\n",
    "\n",
    "from langchain.chains import create_retrieval_chain\n",
    "from langchain.chains.combine_documents import create_stuff_documents_chain\n",
    "\n",
    "# retrieval_qa_chat_prompt = hub.pull(\"langchain-ai/retrieval-qa-chat\")\n",
    "retrieval_qa_chat_prompt = prompt = hub.pull(\"teddynote/rag-prompt-korean\")\n",
    "\n",
    "combine_docs_chain = create_stuff_documents_chain(llm, retrieval_qa_chat_prompt)\n",
    "rag_chain = create_retrieval_chain(database.as_retriever(), combine_docs_chain)\n",
    "\n",
    "ai_message = rag_chain.invoke({\"question\": query, \"input\": query})\n",
    "\n",
    "\n",
    "\n"
   ]
  },
  {
   "cell_type": "code",
   "execution_count": 21,
   "metadata": {},
   "outputs": [
    {
     "data": {
      "text/plain": [
       "{'question': '세탁소 연락처는?',\n",
       " 'input': '세탁소 연락처는?',\n",
       " 'context': [Document(metadata={'source': './dorm.md'}, page_content='- 골프\\n\\n* 연락처: 070-8718-3456 (주말전용)\\n* 위치: 행복1마을 복지A동 지하1층\\n* 운영시간: 06:00~22:00 (단,주말/공휴일레슨없음)\\n\\n- 체육관-행복2마을 (배드민턴/스쿼시)\\n\\n* 연락처: 031-5185-4085\\n* 위치: 행복2마을 커뮤니티센터3층\\n* 운영시간: 24시간\\n\\n- 체육관-청운체육관\\n\\n* 연락처: 031-8094-7745\\n* 위치: 청운5관 맞은편\\n\\n- 피아노실-행복2마을\\n\\n* 연락처: 031-5185-4085(문화 강좌담당 정민화)\\n* 위치: 행복2마을 커뮤니티센터1층\\n* 운영시간: -\\n\\n- 도서관/도서실-행복2마을\\n\\n* 연락처: 031-5185-3883\\n* 위치: 행복2마을 커뮤니티센터3층\\n* 운영시간: 24시간\\n\\n- 고담극장-행복1마을\\n\\n* 연락처: 031-5185-4085\\n* 위치: 행복1마을 복지B동2층\\n* 운영시간: 별도 운영 (고담극장 공지 참조)\\n\\n- 문화센터-행복2마을\\n\\n* 연락처: 031-5185-4085\\n* 위치: 행복2마을 커뮤니티센터 1층\\n* 운영시간: 강좌별 상이 (문화강좌 안내 참조)\\n\\n- 요리 강좌실-행복2마을\\n\\n* 연락처: 031-5185-4085\\n* 위치: 행복2마을 커뮤니티센터 1층\\n* 운영시간: 10:00~13:30, 18:00~21:30 (강좌별 상이)\\n\\n- 제과제빵/바리스타실-행복2마을\\n\\n* 연락처: 031-5185-4085\\n* 위치: 행복2마을 커뮤니티센터 1층\\n* 운영시간: 월,화,수 10:30~ 13:00 / 18:00\\n\\n- 공예실-행복2마을\\n\\n* 연락처: 031-5185-4085\\n* 위치: 행복2마을 커뮤니티센터 1층\\n* 운영시간: 강좌진행시 운영(월~목)\\n\\n- 슈퍼마켓-행복1마을 (하이플러스)\\n\\n* 연락처: 010-3242-4004(개인폰)\\n* 위치: 행복1마을 복지B동 1층\\n* 운영시간: 06:00~24:00\\n\\n- 슈퍼마켓-행복2마을 (하이플러스)\\n\\n* 연락처: 031-8094-7010,20\\n* 위치: 행복2마을 커뮤니티센터 2층\\n* 운영시간: 06:00~24:00\\n\\n- 세탁소-행복1마을\\n\\n* 연락처: 031-633-6936, 010-5404-5167(이영희 사장)\\n* 위치: 행복1마을 복지B동 1층 크린토피아\\n* 운영시간: 평일 09:30~20:00 토요일 10:00~18:00 (일요일 휴뮤)\\n\\n- 세탁소-행복2마을\\n\\n* 연락처: 070-4895-3777\\n* 위치: 행복2마을 커뮤니티센터 1층\\n* 운영시간: 무인수거함으로 운영\\n\\n- 헤어피부샵\\n\\n* 연락처: 070-7622-3543\\n* 위치: 행복2마을 커뮤니티센터 2층\\n* 운영시간: 평일 09:00~21:30 토요일 09:00~16:00 (일요일 휴뮤)\\n\\n- 아트피자/치킨\\n\\n* 연락처: 031-8094-8721\\n* 위치: 행복2마을 커뮤니티센터 2층\\n* 운영시간: 06:00~21:00(배달은 마감 1시간전주문만 가능) / 09:00~18:00(배달은 마감 1시간전주문만 가능)'),\n",
       "  Document(metadata={'source': './dorm.md'}, page_content='- 행복 1마을 경비실\\n\\n* 연락처: 031-633-1968\\n* 위치: 경기도 이천시 대산로 288번길, 89 (행복1마을)\\n* 운영시간: 24시간\\n\\n- 행복 2마을 경비실\\n\\n* 연락처: 031-5185-4073\\n* 위치: 경기도 이천시 대산로 288번길, 48 (행복2마을)\\n* 운영시간: 24시간\\n\\n- 청운 기숙사 1관 경비실\\n\\n* 연락처: 010-3294-4231\\n* 위치: 경기도 이천시 부발읍 경충대로 2091 SK하이닉스 (청운관)\\n* 운영시간: 24시간\\n\\n- 청운 기숙사 2관 경비실\\n\\n* 연락처: 010-3453-4231\\n* 위치: 경기도 이천시 부발읍 경충대로 2091 SK하이닉스 (청운관)\\n* 운영시간: 24시간\\n\\n- 청운 기숙사 3관 경비실\\n\\n* 연락처: 010-3428-4231\\n* 위치: 경기도 이천시 부발읍 경충대로 2091 SK하이닉스 (청운관)\\n* 운영시간: 24시간\\n\\n- 청운 기숙사 4관 경비실\\n\\n* 연락처: 010-3296-4231\\n* 위치: 경기도 이천시 부발읍 경충대로 2091 SK하이닉스 (청운관)\\n* 운영시간: 24시간\\n\\n- 청운 기숙사 5관 경비실\\n\\n* 연락처: 010-3295-4231\\n* 위치: 경기도 이천시 부발읍 경충대로 2091 SK하이닉스 (청운관)\\n* 운영시간: 24시간\\n\\n- 청운 기숙사 6관 경비실\\n\\n* 연락처: 010-3462-4231\\n* 위치: 경기도 이천시 부발읍 경충대로 2091 SK하이닉스 (청운관)\\n* 운영시간: 24시간\\n\\n- 택배센터\\n\\n* 연락처:\\n  - 031-633-2306\\n  - 031-694-3407\\n  - 031-8094-7828\\n* 위치:\\n  - 행복1마을 복지A동 1층\\n  - 행복2마을 커뮤니티센터 2층\\n  - 현우기숙사 입구\\n* 운영시간: 평일 09:30~21:00, 토요일 09:30~17:30 (일요일/공휴일휴무)\\n\\n- 피트니스센터-행복1마을 (프리웨이트존)\\n\\n* 연락처: 031-8094-7717\\n* 위치: 행복1마을 복지A동 지하1층\\n* 운영시간: 24시간\\n\\n- 피트니스센터-행복2마을\\n\\n* 연락처: 031-8094-7768\\n* 위치: 행복2마을 커뮤니티센터2층\\n* 운영시간: 05:30~24:00\\n\\n- 피트니스센터-청운체육관\\n\\n* 연락처: 031-8094-7745\\n* 위치: 청운5관 맞은편\\n* 운영시간: 05:30~24:00\\n\\n- 스피닝\\n\\n* 연락처: 031-5185-4085\\n* 위치: 행복2마을 커뮤니티센터1층\\n* 운영시간: 월~금, 08:00~21:30\\n\\n- GX룸\\n\\n* 연락처: 031-5185-4085\\n* 위치: 행복2마을 커뮤니티센터1층\\n* 운영시간: 24시간(요가-화/목 수업, 11:00~21:00)\\n\\n- 골프\\n\\n* 연락처: 070-8718-3456 (주말전용)\\n* 위치: 행복1마을 복지A동 지하1층\\n* 운영시간: 06:00~22:00 (단,주말/공휴일레슨없음)\\n\\n- 체육관-행복2마을 (배드민턴/스쿼시)\\n\\n* 연락처: 031-5185-4085\\n* 위치: 행복2마을 커뮤니티센터3층\\n* 운영시간: 24시간\\n\\n- 체육관-청운체육관'),\n",
       "  Document(metadata={'source': './dorm.md'}, page_content='# SK 하이닉스 이천 기숙사\\n\\n## 소개\\n\\n이천 기숙사는 경기도 이천시 부발읍 일대 44만 평 부지에 4개 Site, 17개동, 3,200여 개 호실을 갖추고 여러분을 기다리고 있습니다.\\n기숙사와 함께 다양한 커뮤니티 시설이 제공되며 라운지, 카페, 헬스장, 문화 강좌실 등 생활지원시설 및 문화시설에서 입숙인들이 안전하고 편안한 시간을 즐길 수 있도록 다양한 지원과 서비스를 준비하고 있습니다.\\n\\n## 기숙사동\\n\\n1. 행복1마을\\n\\n   - 주소: 경기도 이천시 대산로 288번길, 89\\n\\n2. 행복2마을\\n\\n   - 주소: 경기도 이천시 대월면 대산로 288번길, 48\\n\\n3. 청운기숙사\\n\\n   - 주소: 경기도 이천시 부발읍 경충대로 2091 SK하이닉스 청운관\\n\\n4. 현우기숙사\\n\\n   - 주소: 경기도 이천시 부발읍 경충대로 2041번길, 54\\n\\n## 기숙사 홈페이지\\n\\n- 홈페이지 이름: 하이홈(Hihome)\\n- 주소: https://hihome.skhynix.com/main\\n- 설명: 구성원의 생활/지원 서비스(입·퇴실, 이동, 하자 등)는 더욱 빠르게 해결하고, 주거 시설 Infra (Cafétreia, 주차, 택배 등) 및 문화/편의시설 운영 정보도 실시간으로 제공해 더욱 편리한 생활을 지원합니다\\n\\n## 관리지원 센터 및 시설 연락처와 운영정보\\n\\n- 현우기숙사 생활지원센터\\n\\n* 연락처: 031-5185-3420\\n* 위치: 경기도 이천시 부발읍 경중대로 2041번길 54 현우기숙사\\n* 운영시간: 평일 08:30~17:30 / 유연근무\\n\\n- 행복마을 시설관리\\n\\n* 연락처: 031-5185-3883\\n* 위치: [ 행복 1마을 ]경기도 이천시 대산로 288번길, 89 [ 행복 2마을 ] 경기도 이천시 대산로 288번길, 48\\n* 운영시간: 평일 08:30~17:30 / 유연근무\\n\\n- 청운기숙사 생활지원센터\\n\\n* 연락처: 031-5185-3420\\n* 위치: 경기도 이천시 부발읍 경충대로 2091 SK하이닉스 (청운관)\\n* 운영시간: 평일 08:30~17:30 / 유연근무\\n\\n- 행복마을 입숙/퇴숙\\n\\n* 연락처: 031-5185-4083\\n* 위치: [ 행복 1마을 ]경기도 이천시 대산로 288번길, 89 [ 행복 2마을 ] 경기도 이천시 대산로 288번길, 48\\n* 운영시간: 평일 08:30~17:30 / 유연근무\\n\\n- 행복마을 문화센터\\n\\n* 연락처: 031-5185-4086\\n* 위치: [ 행복 1마을 ]경기도 이천시 대산로 288번길, 89 [ 행복 2마을 ] 경기도 이천시 대산로 288번길, 48\\n* 운영시간: 평일 08:30~17:30 / 유연근무\\n\\n- 행복 1마을 경비실\\n\\n* 연락처: 031-633-1968\\n* 위치: 경기도 이천시 대산로 288번길, 89 (행복1마을)\\n* 운영시간: 24시간\\n\\n- 행복 2마을 경비실\\n\\n* 연락처: 031-5185-4073\\n* 위치: 경기도 이천시 대산로 288번길, 48 (행복2마을)\\n* 운영시간: 24시간\\n\\n- 청운 기숙사 1관 경비실')],\n",
       " 'answer': '세탁소의 연락처는 031-633-6936, 010-5404-5167(이영희 사장)입니다.'}"
      ]
     },
     "execution_count": 21,
     "metadata": {},
     "output_type": "execute_result"
    }
   ],
   "source": [
    "ai_message"
   ]
  },
  {
   "cell_type": "code",
   "execution_count": null,
   "metadata": {},
   "outputs": [],
   "source": []
  }
 ],
 "metadata": {
  "kernelspec": {
   "display_name": "llm",
   "language": "python",
   "name": "python3"
  },
  "language_info": {
   "codemirror_mode": {
    "name": "ipython",
    "version": 3
   },
   "file_extension": ".py",
   "mimetype": "text/x-python",
   "name": "python",
   "nbconvert_exporter": "python",
   "pygments_lexer": "ipython3",
   "version": "3.10.15"
  }
 },
 "nbformat": 4,
 "nbformat_minor": 2
}
