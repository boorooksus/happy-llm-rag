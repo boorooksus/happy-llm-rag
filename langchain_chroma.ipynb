{
 "cells": [
  {
   "cell_type": "code",
   "execution_count": null,
   "metadata": {},
   "outputs": [],
   "source": [
    "# %pip install langchain-openai python-dotenv\n",
    "# %pip install langchain-core langchain-upstage\n",
    "# %pip install --upgrade --quiet  docx2txt\n",
    "# %pip install langchain_community\n",
    "# %pip install -qU langchain-text-splitters\n",
    "%pip install langchain-chroma"
   ]
  },
  {
   "cell_type": "markdown",
   "metadata": {},
   "source": [
    "## 주피터 노트북 팁\n",
    "- 노트 실행 에러시 노트 껏다 켜서 다시해보기"
   ]
  },
  {
   "cell_type": "code",
   "execution_count": 1,
   "metadata": {},
   "outputs": [
    {
     "data": {
      "text/plain": [
       "True"
      ]
     },
     "execution_count": 1,
     "metadata": {},
     "output_type": "execute_result"
    }
   ],
   "source": [
    "from dotenv import load_dotenv\n",
    "\n",
    "load_dotenv()"
   ]
  },
  {
   "cell_type": "markdown",
   "metadata": {},
   "source": [
    "## 모델 연결\n",
    "\n",
    "- 한국말은 임베딩 모델 Upstage AI(SolarLLM) 사용하는게 벡터간 유사도 성능 좋음\n",
    "\n",
    "- 업스테이지 가입 → 무료 30달러 크레딧 → api 키 받기 → 예시 코드 작성\n",
    "\n",
    "[랭체인 문서 링크](https://python.langchain.com/v0.2/docs/integrations/providers/upstage/)"
   ]
  },
  {
   "cell_type": "code",
   "execution_count": 2,
   "metadata": {},
   "outputs": [],
   "source": [
    "# from langchain_openai import ChatOpenAI\n",
    "# llm = ChatOpenAI()\n",
    "# llm.invoke(\"한국의 수도는?\")\n",
    "\n",
    "from langchain_upstage import ChatUpstage\n",
    "\n",
    "chat = ChatUpstage()"
   ]
  },
  {
   "cell_type": "code",
   "execution_count": 3,
   "metadata": {},
   "outputs": [
    {
     "name": "stdout",
     "output_type": "stream",
     "text": [
      "content='대한민국의 수도는 서울입니다. 서울은 한국에서 가장 큰 도시이기도 하며, 정치, 경제, 문화, 교통의 중심지입니다. 서울은 한강을 중심으로 한 도시로, 다양한 역사적인 유적지와 현대적인 건축물, 맛있는 음식, 활발한 밤문화 등으로 유명합니다. 서울은 세계적인 도시 중 하나로 꼽히며, 많은 관광객들이 방문하는 인기 있는 도시입니다.' additional_kwargs={'refusal': None} response_metadata={'token_usage': {'completion_tokens': 78, 'prompt_tokens': 15, 'total_tokens': 93, 'completion_tokens_details': None, 'prompt_tokens_details': None}, 'model_name': 'solar-mini-240612', 'system_fingerprint': None, 'finish_reason': 'stop', 'logprobs': None} id='run-0615670f-91b0-4c4b-95c6-a3b1b4820cc9-0' usage_metadata={'input_tokens': 15, 'output_tokens': 78, 'total_tokens': 93, 'input_token_details': {}, 'output_token_details': {}}\n"
     ]
    }
   ],
   "source": [
    "response = chat.invoke(\"한국의 수도는?\")\n",
    "print(response)"
   ]
  },
  {
   "cell_type": "markdown",
   "metadata": {},
   "source": [
    "## 문서 로드\n",
    "\n",
    "\n",
    "[소득세법 문서 출처](https://law.go.kr/%EB%B2%95%EB%A0%B9/%EC%86%8C%EB%93%9D%EC%84%B8%EB%B2%95)\n",
    "\n",
    "- 자료는 워드로 다운 받는게 좋음.\n",
    "- pdf는 줄바꿈시 한글 단어가 짤릴 수 있음\n",
    "- 워드 문서 다운 받은 후 확장자를 doc에서 docx로 변경 필요\n",
    "\n",
    "[랭체인 문서](https://python.langchain.com/v0.2/docs/integrations/document_loaders/microsoft_word/#using-docx2txt)"
   ]
  },
  {
   "cell_type": "code",
   "execution_count": null,
   "metadata": {},
   "outputs": [
    {
     "data": {
      "text/plain": [
       "[Document(metadata={'source': './dorm.md'}, page_content='# SK 하이닉스 이천 기숙사\\n\\n## 소개\\n\\n이천 기숙사는 경기도 이천시 부발읍 일대 44만 평 부지에 4개 Site, 17개동, 3,200여 개 호실을 갖추고 여러분을 기다리고 있습니다.\\n기숙사와 함께 다양한 커뮤니티 시설이 제공되며 라운지, 카페, 헬스장, 문화 강좌실 등 생활지원시설 및 문화시설에서 입숙인들이 안전하고 편안한 시간을 즐길 수 있도록 다양한 지원과 서비스를 준비하고 있습니다.\\n\\n## 기숙사동\\n\\n1. 행복1마을\\n\\n   - 주소: 경기도 이천시 대산로 288번길, 89\\n\\n2. 행복2마을\\n\\n   - 주소: 경기도 이천시 대월면 대산로 288번길, 48\\n\\n3. 청운기숙사\\n\\n   - 주소: 경기도 이천시 부발읍 경충대로 2091 SK하이닉스 청운관\\n\\n4. 현우기숙사\\n\\n   - 주소: 경기도 이천시 부발읍 경충대로 2041번길, 54\\n\\n## 기숙사 홈페이지\\n\\n- 홈페이지 이름: 하이홈(Hihome)\\n- 주소: https://hihome.skhynix.com/main\\n- 설명: 구성원의 생활/지원 서비스(입·퇴실, 이동, 하자 등)는 더욱 빠르게 해결하고, 주거 시설 Infra (Cafétreia, 주차, 택배 등) 및 문화/편의시설 운영 정보도 실시간으로 제공해 더욱 편리한 생활을 지원합니다\\n\\n## 관리지원 센터 및 시설 연락처와 운영정보\\n\\n- 현우기숙사 생활지원센터\\n\\n* 연락처: 031-5185-3420\\n* 위치: 경기도 이천시 부발읍 경중대로 2041번길 54 현우기숙사\\n* 운영시간: 평일 08:30~17:30 / 유연근무\\n\\n- 행복마을 시설관리\\n\\n* 연락처: 031-5185-3883\\n* 위치: [ 행복 1마을 ]경기도 이천시 대산로 288번길, 89 [ 행복 2마을 ] 경기도 이천시 대산로 288번길, 48\\n* 운영시간: 평일 08:30~17:30 / 유연근무\\n\\n- 청운기숙사 생활지원센터\\n\\n* 연락처: 031-5185-3420\\n* 위치: 경기도 이천시 부발읍 경충대로 2091 SK하이닉스 (청운관)\\n* 운영시간: 평일 08:30~17:30 / 유연근무\\n\\n- 행복마을 입숙/퇴숙\\n\\n* 연락처: 031-5185-4083\\n* 위치: [ 행복 1마을 ]경기도 이천시 대산로 288번길, 89 [ 행복 2마을 ] 경기도 이천시 대산로 288번길, 48\\n* 운영시간: 평일 08:30~17:30 / 유연근무\\n\\n- 행복마을 문화센터\\n\\n* 연락처: 031-5185-4086\\n* 위치: [ 행복 1마을 ]경기도 이천시 대산로 288번길, 89 [ 행복 2마을 ] 경기도 이천시 대산로 288번길, 48\\n* 운영시간: 평일 08:30~17:30 / 유연근무\\n\\n- 행복 1마을 경비실\\n\\n* 연락처: 031-633-1968\\n* 위치: 경기도 이천시 대산로 288번길, 89 (행복1마을)\\n* 운영시간: 24시간\\n\\n- 행복 2마을 경비실\\n\\n* 연락처: 031-5185-4073\\n* 위치: 경기도 이천시 대산로 288번길, 48 (행복2마을)\\n* 운영시간: 24시간\\n\\n- 청운 기숙사 1관 경비실\\n\\n* 연락처: 010-3294-4231\\n* 위치: 경기도 이천시 부발읍 경충대로 2091 SK하이닉스 (청운관)\\n* 운영시간: 24시간\\n\\n- 청운 기숙사 2관 경비실\\n\\n* 연락처: 010-3453-4231\\n* 위치: 경기도 이천시 부발읍 경충대로 2091 SK하이닉스 (청운관)\\n* 운영시간: 24시간\\n\\n- 청운 기숙사 3관 경비실\\n\\n* 연락처: 010-3428-4231\\n* 위치: 경기도 이천시 부발읍 경충대로 2091 SK하이닉스 (청운관)\\n* 운영시간: 24시간\\n\\n- 청운 기숙사 4관 경비실\\n\\n* 연락처: 010-3296-4231\\n* 위치: 경기도 이천시 부발읍 경충대로 2091 SK하이닉스 (청운관)\\n* 운영시간: 24시간\\n\\n- 청운 기숙사 5관 경비실\\n\\n* 연락처: 010-3295-4231\\n* 위치: 경기도 이천시 부발읍 경충대로 2091 SK하이닉스 (청운관)\\n* 운영시간: 24시간\\n\\n- 청운 기숙사 6관 경비실\\n\\n* 연락처: 010-3462-4231\\n* 위치: 경기도 이천시 부발읍 경충대로 2091 SK하이닉스 (청운관)\\n* 운영시간: 24시간\\n\\n- 택배센터\\n\\n* 연락처:\\n  - 031-633-2306\\n  - 031-694-3407\\n  - 031-8094-7828\\n* 위치:\\n  - 행복1마을 복지A동 1층\\n  - 행복2마을 커뮤니티센터 2층\\n  - 현우기숙사 입구\\n* 운영시간: 평일 09:30~21:00, 토요일 09:30~17:30 (일요일/공휴일휴무)\\n\\n- 피트니스센터-행복1마을 (프리웨이트존)\\n\\n* 연락처: 031-8094-7717\\n* 위치: 행복1마을 복지A동 지하1층\\n* 운영시간: 24시간\\n\\n- 피트니스센터-행복2마을\\n\\n* 연락처: 031-8094-7768\\n* 위치: 행복2마을 커뮤니티센터2층\\n* 운영시간: 05:30~24:00\\n\\n- 피트니스센터-청운체육관\\n\\n* 연락처: 031-8094-7745\\n* 위치: 청운5관 맞은편\\n* 운영시간: 05:30~24:00\\n\\n- 스피닝\\n\\n* 연락처: 031-5185-4085\\n* 위치: 행복2마을 커뮤니티센터1층\\n* 운영시간: 월~금, 08:00~21:30\\n\\n- GX룸\\n\\n* 연락처: 031-5185-4085\\n* 위치: 행복2마을 커뮤니티센터1층\\n* 운영시간: 24시간(요가-화/목 수업, 11:00~21:00)\\n\\n- 골프\\n\\n* 연락처: 070-8718-3456 (주말전용)\\n* 위치: 행복1마을 복지A동 지하1층\\n* 운영시간: 06:00~22:00 (단,주말/공휴일레슨없음)\\n\\n- 체육관-행복2마을 (배드민턴/스쿼시)\\n\\n* 연락처: 031-5185-4085\\n* 위치: 행복2마을 커뮤니티센터3층\\n* 운영시간: 24시간\\n\\n- 체육관-청운체육관\\n\\n* 연락처: 031-8094-7745\\n* 위치: 청운5관 맞은편\\n\\n- 피아노실-행복2마을\\n\\n* 연락처: 031-5185-4085(문화 강좌담당 정민화)\\n* 위치: 행복2마을 커뮤니티센터1층\\n* 운영시간: -\\n\\n- 도서관/도서실-행복2마을\\n\\n* 연락처: 031-5185-3883\\n* 위치: 행복2마을 커뮤니티센터3층\\n* 운영시간: 24시간\\n\\n- 고담극장-행복1마을\\n\\n* 연락처: 031-5185-4085\\n* 위치: 행복1마을 복지B동2층\\n* 운영시간: 별도 운영 (고담극장 공지 참조)\\n\\n- 문화센터-행복2마을\\n\\n* 연락처: 031-5185-4085\\n* 위치: 행복2마을 커뮤니티센터 1층\\n* 운영시간: 강좌별 상이 (문화강좌 안내 참조)\\n\\n- 요리 강좌실-행복2마을\\n\\n* 연락처: 031-5185-4085\\n* 위치: 행복2마을 커뮤니티센터 1층\\n* 운영시간: 10:00~13:30, 18:00~21:30 (강좌별 상이)\\n\\n- 제과제빵/바리스타실-행복2마을\\n\\n* 연락처: 031-5185-4085\\n* 위치: 행복2마을 커뮤니티센터 1층\\n* 운영시간: 월,화,수 10:30~ 13:00 / 18:00\\n\\n- 공예실-행복2마을\\n\\n* 연락처: 031-5185-4085\\n* 위치: 행복2마을 커뮤니티센터 1층\\n* 운영시간: 강좌진행시 운영(월~목)\\n\\n- 슈퍼마켓-행복1마을 (하이플러스)\\n\\n* 연락처: 010-3242-4004(개인폰)\\n* 위치: 행복1마을 복지B동 1층\\n* 운영시간: 06:00~24:00\\n\\n- 슈퍼마켓-행복2마을 (하이플러스)\\n\\n* 연락처: 031-8094-7010,20\\n* 위치: 행복2마을 커뮤니티센터 2층\\n* 운영시간: 06:00~24:00\\n\\n- 세탁소-행복1마을\\n\\n* 연락처: 031-633-6936, 010-5404-5167(이영희 사장)\\n* 위치: 행복1마을 복지B동 1층 크린토피아\\n* 운영시간: 평일 09:30~20:00 토요일 10:00~18:00 (일요일 휴뮤)\\n\\n- 세탁소-행복2마을\\n\\n* 연락처: 070-4895-3777\\n* 위치: 행복2마을 커뮤니티센터 1층\\n* 운영시간: 무인수거함으로 운영\\n\\n- 헤어피부샵\\n\\n* 연락처: 070-7622-3543\\n* 위치: 행복2마을 커뮤니티센터 2층\\n* 운영시간: 평일 09:00~21:30 토요일 09:00~16:00 (일요일 휴뮤)\\n\\n- 아트피자/치킨\\n\\n* 연락처: 031-8094-8721\\n* 위치: 행복2마을 커뮤니티센터 2층\\n* 운영시간: 06:00~21:00(배달은 마감 1시간전주문만 가능) / 09:00~18:00(배달은 마감 1시간전주문만 가능)\\n')]"
      ]
     },
     "execution_count": 4,
     "metadata": {},
     "output_type": "execute_result"
    }
   ],
   "source": [
    "# 문서 로드\n",
    "from langchain_community.document_loaders import Docx2txtLoader, TextLoader\n",
    "\n",
    "loader = TextLoader(\"./docs/dorm.md\")\n",
    "data = loader.load()\n",
    "data"
   ]
  },
  {
   "cell_type": "markdown",
   "metadata": {},
   "source": [
    "## 텍스트 쪼개기\n",
    "\n",
    "- 텍스틑 쪼개는 방법은 보통 recursive 또는 character를 사용함.\n",
    "- recursive가 구분자 설정을 할 수 있어서 성능이 더 좋음\n",
    "\n",
    "[랭체인 문서](https://python.langchain.com/v0.2/docs/how_to/recursive_text_splitter/)"
   ]
  },
  {
   "cell_type": "code",
   "execution_count": 5,
   "metadata": {},
   "outputs": [],
   "source": [
    "# 문서 쪼개기\n",
    "from langchain_text_splitters import RecursiveCharacterTextSplitter\n",
    "\n",
    "\n",
    "text_splitter = RecursiveCharacterTextSplitter(\n",
    "    # Set a really small chunk size, just to show.\n",
    "    chunk_size=1500,\n",
    "    chunk_overlap=200,\n",
    "    # length_function=len,\n",
    "    # is_separator_regex=False,\n",
    ")\n",
    "\n",
    "document_list = loader.load_and_split(text_splitter=text_splitter)"
   ]
  },
  {
   "cell_type": "code",
   "execution_count": 6,
   "metadata": {},
   "outputs": [
    {
     "data": {
      "text/plain": [
       "Document(metadata={'source': './dorm.md'}, page_content='# SK 하이닉스 이천 기숙사\\n\\n## 소개\\n\\n이천 기숙사는 경기도 이천시 부발읍 일대 44만 평 부지에 4개 Site, 17개동, 3,200여 개 호실을 갖추고 여러분을 기다리고 있습니다.\\n기숙사와 함께 다양한 커뮤니티 시설이 제공되며 라운지, 카페, 헬스장, 문화 강좌실 등 생활지원시설 및 문화시설에서 입숙인들이 안전하고 편안한 시간을 즐길 수 있도록 다양한 지원과 서비스를 준비하고 있습니다.\\n\\n## 기숙사동\\n\\n1. 행복1마을\\n\\n   - 주소: 경기도 이천시 대산로 288번길, 89\\n\\n2. 행복2마을\\n\\n   - 주소: 경기도 이천시 대월면 대산로 288번길, 48\\n\\n3. 청운기숙사\\n\\n   - 주소: 경기도 이천시 부발읍 경충대로 2091 SK하이닉스 청운관\\n\\n4. 현우기숙사\\n\\n   - 주소: 경기도 이천시 부발읍 경충대로 2041번길, 54\\n\\n## 기숙사 홈페이지\\n\\n- 홈페이지 이름: 하이홈(Hihome)\\n- 주소: https://hihome.skhynix.com/main\\n- 설명: 구성원의 생활/지원 서비스(입·퇴실, 이동, 하자 등)는 더욱 빠르게 해결하고, 주거 시설 Infra (Cafétreia, 주차, 택배 등) 및 문화/편의시설 운영 정보도 실시간으로 제공해 더욱 편리한 생활을 지원합니다\\n\\n## 관리지원 센터 및 시설 연락처와 운영정보\\n\\n- 현우기숙사 생활지원센터\\n\\n* 연락처: 031-5185-3420\\n* 위치: 경기도 이천시 부발읍 경중대로 2041번길 54 현우기숙사\\n* 운영시간: 평일 08:30~17:30 / 유연근무\\n\\n- 행복마을 시설관리\\n\\n* 연락처: 031-5185-3883\\n* 위치: [ 행복 1마을 ]경기도 이천시 대산로 288번길, 89 [ 행복 2마을 ] 경기도 이천시 대산로 288번길, 48\\n* 운영시간: 평일 08:30~17:30 / 유연근무\\n\\n- 청운기숙사 생활지원센터\\n\\n* 연락처: 031-5185-3420\\n* 위치: 경기도 이천시 부발읍 경충대로 2091 SK하이닉스 (청운관)\\n* 운영시간: 평일 08:30~17:30 / 유연근무\\n\\n- 행복마을 입숙/퇴숙\\n\\n* 연락처: 031-5185-4083\\n* 위치: [ 행복 1마을 ]경기도 이천시 대산로 288번길, 89 [ 행복 2마을 ] 경기도 이천시 대산로 288번길, 48\\n* 운영시간: 평일 08:30~17:30 / 유연근무\\n\\n- 행복마을 문화센터\\n\\n* 연락처: 031-5185-4086\\n* 위치: [ 행복 1마을 ]경기도 이천시 대산로 288번길, 89 [ 행복 2마을 ] 경기도 이천시 대산로 288번길, 48\\n* 운영시간: 평일 08:30~17:30 / 유연근무\\n\\n- 행복 1마을 경비실\\n\\n* 연락처: 031-633-1968\\n* 위치: 경기도 이천시 대산로 288번길, 89 (행복1마을)\\n* 운영시간: 24시간\\n\\n- 행복 2마을 경비실\\n\\n* 연락처: 031-5185-4073\\n* 위치: 경기도 이천시 대산로 288번길, 48 (행복2마을)\\n* 운영시간: 24시간\\n\\n- 청운 기숙사 1관 경비실')"
      ]
     },
     "execution_count": 6,
     "metadata": {},
     "output_type": "execute_result"
    }
   ],
   "source": [
    "# len(document_list)\n",
    "# print(type(document_list))\n",
    "# print(type(document_list[0]))\n",
    "# print(document_list[0])\n",
    "document_list[0]"
   ]
  },
  {
   "cell_type": "markdown",
   "metadata": {},
   "source": [
    "# 임베딩\n",
    "\n",
    "[업스테이지 문서](https://console.upstage.ai/docs/capabilities/embeddings)\n",
    "\n",
    "[크로마 랭체인 문서]()"
   ]
  },
  {
   "cell_type": "code",
   "execution_count": 3,
   "metadata": {},
   "outputs": [],
   "source": [
    "# 임베딩\n",
    "\n",
    "# from langchain_openai import AzureOpenAIEmbeddings\n",
    "from langchain_upstage import UpstageEmbeddings\n",
    "\n",
    "\n",
    "embedding = UpstageEmbeddings(\n",
    "    model=\"embedding-query\"\n",
    ")"
   ]
  },
  {
   "cell_type": "code",
   "execution_count": null,
   "metadata": {},
   "outputs": [],
   "source": [
    "from langchain_chroma import Chroma\n",
    "\n",
    "database = Chroma(collection_name=\"dorm\",\n",
    "    embedding_function=embedding)\n",
    "database.add_documents(documents=document_list)\n",
    "\n"
   ]
  },
  {
   "cell_type": "code",
   "execution_count": null,
   "metadata": {},
   "outputs": [],
   "source": [
    "embedding.aembed_documents"
   ]
  },
  {
   "cell_type": "code",
   "execution_count": 4,
   "metadata": {},
   "outputs": [],
   "source": [
    "from langchain_chroma import Chroma\n",
    "\n",
    "# # 인메모리가 아닌 sqlite로 저장하는 방법\n",
    "# database = Chroma.from_documents(documents=document_list, embedding=embedding, collection_name=\"chroma-tax\", persist_directory=\"./chroma\")\n",
    "\n",
    "# 저장한 크로마 불러오는 방법\n",
    "database = Chroma(collection_name=\"dorm\", persist_directory=\"./chroma_db\", embedding_function=embedding)"
   ]
  },
  {
   "cell_type": "code",
   "execution_count": 9,
   "metadata": {},
   "outputs": [
    {
     "data": {
      "text/plain": [
       "['a2460edc-d58b-4d0d-a3a6-afaa7684bd66',\n",
       " 'c9fc58ec-410b-401a-a6c1-c6fad968c2a3',\n",
       " '72c2f030-991b-4b87-89e8-2b7512cb50dc']"
      ]
     },
     "execution_count": 9,
     "metadata": {},
     "output_type": "execute_result"
    }
   ],
   "source": [
    "database.add_documents(documents=document_list)"
   ]
  },
  {
   "cell_type": "code",
   "execution_count": 5,
   "metadata": {},
   "outputs": [
    {
     "name": "stderr",
     "output_type": "stream",
     "text": [
      "Number of requested results 4 is greater than number of elements in index 3, updating n_results = 3\n"
     ]
    }
   ],
   "source": [
    "# 존대말로 하면 답변을 잘해줌\n",
    "# 영어에서는 please\n",
    "query = '행복2마을 헬스장 운영시간은?'\n",
    "# 유사도 검색\n",
    "retrieved_docs = database.similarity_search(query, k=4)"
   ]
  },
  {
   "cell_type": "code",
   "execution_count": null,
   "metadata": {},
   "outputs": [],
   "source": [
    "retrieved_docs\n"
   ]
  },
  {
   "cell_type": "markdown",
   "metadata": {},
   "source": [
    "# Chat\n",
    "- OpenAI  \n",
    "[랭체인 문서](https://python.langchain.com/v0.2/docs/integrations/chat/openai/#integration-details)\n",
    "\n",
    "- Upstage  \n",
    "[랭체인 문서](https://python.langchain.com/docs/integrations/chat/upstage/)"
   ]
  },
  {
   "cell_type": "code",
   "execution_count": 12,
   "metadata": {},
   "outputs": [],
   "source": [
    "from langchain_upstage import ChatUpstage\n",
    "\n",
    "llm = ChatUpstage()"
   ]
  },
  {
   "cell_type": "code",
   "execution_count": 12,
   "metadata": {},
   "outputs": [],
   "source": [
    "# 페르소나 주입\n",
    "prompt = f\"\"\"[Identity]\n",
    "- [Context]를 참고해서 [Questions]에 답변해주세요\n",
    "\n",
    "[Context]\n",
    "{retrieved_docs}\n",
    "\n",
    "[Questions]\n",
    "{query}\n",
    "\"\"\"\n"
   ]
  },
  {
   "cell_type": "code",
   "execution_count": 13,
   "metadata": {},
   "outputs": [],
   "source": [
    "ai_message  =llm.invoke(prompt)"
   ]
  },
  {
   "cell_type": "code",
   "execution_count": 14,
   "metadata": {},
   "outputs": [
    {
     "data": {
      "text/plain": [
       "'연봉이 5천만원인 직장인의 경우, 소득세는 다음과 같이 계산됩니다.\\n\\n소득세율은 누진세율로 적용되며, 소득이 높아질수록 세율도 높아집니다. 따라서, 5천만원인 경우의 소득세는 다음과 같이 계산됩니다.\\n\\n1. 총 급여액에서 근로소득공제액을 뺍니다.\\n2. 근로소득공제액을 뺀 금액에 대한 소득세를 계산합니다.\\n3. 계산된 소득세에서 추가 공제액(예: 인적공제, 연금공제, 의료비공제 등)을 뺍니다.\\n4. 최종적으로 납부해야 할 소득세를 계산합니다.\\n\\n연봉이 5천만원인 경우, 소득세는 1,962,000원이 됩니다.'"
      ]
     },
     "execution_count": 14,
     "metadata": {},
     "output_type": "execute_result"
    }
   ],
   "source": [
    "ai_message.content\n"
   ]
  },
  {
   "cell_type": "markdown",
   "metadata": {},
   "source": [
    "# Langchain을 활용해서 매번 세팅 안해주는법\n",
    "\n",
    "## LangchainQA\n",
    "- deprecated 됨\n",
    "- __create_retrieval_chain__ 이용\n",
    "  \n",
    "[Migration 문서](https://python.langchain.com/docs/versions/migrating_chains/retrieval_qa/)\n",
    "  \n",
    "[create_retrieval_chain 문서](https://python.langchain.com/api_reference/langchain/chains/langchain.chains.retrieval.create_retrieval_chain.html#langchain-chains-retrieval-create-retrieval-chain)"
   ]
  },
  {
   "cell_type": "code",
   "execution_count": 19,
   "metadata": {},
   "outputs": [],
   "source": [
    "# 저장한 크로마 불러오는 방법\n",
    "database = Chroma(collection_name=\"dorm\", persist_directory=\"./chroma_db\", embedding_function=embedding)\n",
    "\n",
    "query = '세탁소 연락처는?'\n",
    "llm = ChatUpstage()\n",
    "\n",
    "\n"
   ]
  },
  {
   "cell_type": "code",
   "execution_count": 20,
   "metadata": {},
   "outputs": [
    {
     "name": "stderr",
     "output_type": "stream",
     "text": [
      "/Users/boosj/.pyenv/versions/3.10.15/envs/llm/lib/python3.10/site-packages/langsmith/client.py:241: LangSmithMissingAPIKeyWarning: API key must be provided when using hosted LangSmith API\n",
      "  warnings.warn(\n",
      "Number of requested results 4 is greater than number of elements in index 3, updating n_results = 3\n"
     ]
    }
   ],
   "source": [
    "from langchain import hub\n",
    "\n",
    "# Lagacy\n",
    "# prompt = hub.pull(\"rlm/rag-prompt\")\n",
    "\n",
    "# qa_chain = RetrievalQA.from_llm(\n",
    "#     llm, \n",
    "#     retriever=database.as_retriever(),\n",
    "#     chain_type_kwargs={\"prompt\": prompt}\n",
    "# )\n",
    "\n",
    "# ai_message = qa_chain({\"query\": query})\n",
    "\n",
    "from langchain.chains import create_retrieval_chain\n",
    "from langchain.chains.combine_documents import create_stuff_documents_chain\n",
    "\n",
    "# retrieval_qa_chat_prompt = hub.pull(\"langchain-ai/retrieval-qa-chat\")\n",
    "retrieval_qa_chat_prompt = prompt = hub.pull(\"teddynote/rag-prompt-korean\")\n",
    "\n",
    "combine_docs_chain = create_stuff_documents_chain(llm, retrieval_qa_chat_prompt)\n",
    "rag_chain = create_retrieval_chain(database.as_retriever(), combine_docs_chain)\n",
    "\n",
    "ai_message = rag_chain.invoke({\"question\": query, \"input\": query})\n",
    "\n",
    "\n",
    "\n"
   ]
  },
  {
   "cell_type": "code",
   "execution_count": null,
   "metadata": {},
   "outputs": [],
   "source": [
    "ai_message"
   ]
  },
  {
   "cell_type": "code",
   "execution_count": null,
   "metadata": {},
   "outputs": [],
   "source": []
  }
 ],
 "metadata": {
  "kernelspec": {
   "display_name": "llm",
   "language": "python",
   "name": "python3"
  },
  "language_info": {
   "codemirror_mode": {
    "name": "ipython",
    "version": 3
   },
   "file_extension": ".py",
   "mimetype": "text/x-python",
   "name": "python",
   "nbconvert_exporter": "python",
   "pygments_lexer": "ipython3",
   "version": "3.10.15"
  }
 },
 "nbformat": 4,
 "nbformat_minor": 2
}
